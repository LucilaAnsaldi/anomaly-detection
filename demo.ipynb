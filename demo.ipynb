{
 "cells": [
  {
   "cell_type": "markdown",
   "metadata": {},
   "source": [
    "Run pipeline"
   ]
  },
  {
   "cell_type": "markdown",
   "metadata": {},
   "source": [
    "---------------------------------------------------------------------"
   ]
  },
  {
   "cell_type": "code",
   "execution_count": 4,
   "metadata": {},
   "outputs": [],
   "source": [
    "from src.preprocessing.extract_frames import extract_frames_from_video\n",
    "\n",
    "frames = extract_frames_from_video(\n",
    "    video_path=\"data/video.mp4\",\n",
    "    output_directory=\"data/frames\",\n",
    "    frame_interval_seconds=1\n",
    ")"
   ]
  },
  {
   "cell_type": "code",
   "execution_count": 1,
   "metadata": {},
   "outputs": [
    {
     "name": "stdout",
     "output_type": "stream",
     "text": [
      "New https://pypi.org/project/ultralytics/8.3.44 available  Update with 'pip install -U ultralytics'\n",
      "Ultralytics 8.3.43  Python-3.11.9 torch-2.5.1+cpu CPU (12th Gen Intel Core(TM) i7-1255U)\n",
      "\u001b[34m\u001b[1mengine\\trainer: \u001b[0mtask=detect, mode=train, model=models/yolov8s.pt, data=data/data.yaml, epochs=50, time=None, patience=100, batch=16, imgsz=640, save=True, save_period=-1, cache=False, device=None, workers=8, project=None, name=train3, exist_ok=False, pretrained=True, optimizer=auto, verbose=True, seed=0, deterministic=True, single_cls=False, rect=False, cos_lr=False, close_mosaic=10, resume=False, amp=True, fraction=1.0, profile=False, freeze=None, multi_scale=False, overlap_mask=True, mask_ratio=4, dropout=0.0, val=True, split=val, save_json=False, save_hybrid=False, conf=None, iou=0.7, max_det=300, half=False, dnn=False, plots=True, source=None, vid_stride=1, stream_buffer=False, visualize=False, augment=False, agnostic_nms=False, classes=None, retina_masks=False, embed=None, show=False, save_frames=False, save_txt=False, save_conf=False, save_crop=False, show_labels=True, show_conf=True, show_boxes=True, line_width=None, format=torchscript, keras=False, optimize=False, int8=False, dynamic=False, simplify=True, opset=None, workspace=None, nms=False, lr0=0.01, lrf=0.01, momentum=0.937, weight_decay=0.0005, warmup_epochs=3.0, warmup_momentum=0.8, warmup_bias_lr=0.1, box=7.5, cls=0.5, dfl=1.5, pose=12.0, kobj=1.0, nbs=64, hsv_h=0.015, hsv_s=0.7, hsv_v=0.4, degrees=0.0, translate=0.1, scale=0.5, shear=0.0, perspective=0.0, flipud=0.0, fliplr=0.5, bgr=0.0, mosaic=1.0, mixup=0.0, copy_paste=0.0, copy_paste_mode=flip, auto_augment=randaugment, erasing=0.4, crop_fraction=1.0, cfg=None, tracker=botsort.yaml, save_dir=c:\\Users\\ansal\\source\\repos\\anomaly-detection\\runs\\detect\\train3\n",
      "Downloading https://ultralytics.com/assets/Arial.ttf to 'C:\\Users\\ansal\\AppData\\Roaming\\Ultralytics\\Arial.ttf'...\n"
     ]
    },
    {
     "name": "stderr",
     "output_type": "stream",
     "text": [
      "100%|██████████| 755k/755k [00:00<00:00, 6.68MB/s]\n"
     ]
    },
    {
     "name": "stdout",
     "output_type": "stream",
     "text": [
      "WARNING:tensorflow:From c:\\Users\\ansal\\source\\repos\\anomaly-detection\\.venv\\Lib\\site-packages\\keras\\src\\losses.py:2976: The name tf.losses.sparse_softmax_cross_entropy is deprecated. Please use tf.compat.v1.losses.sparse_softmax_cross_entropy instead.\n",
      "\n",
      "Overriding model.yaml nc=80 with nc=1\n",
      "\n",
      "                   from  n    params  module                                       arguments                     \n",
      "  0                  -1  1       928  ultralytics.nn.modules.conv.Conv             [3, 32, 3, 2]                 \n",
      "  1                  -1  1     18560  ultralytics.nn.modules.conv.Conv             [32, 64, 3, 2]                \n",
      "  2                  -1  1     29056  ultralytics.nn.modules.block.C2f             [64, 64, 1, True]             \n",
      "  3                  -1  1     73984  ultralytics.nn.modules.conv.Conv             [64, 128, 3, 2]               \n",
      "  4                  -1  2    197632  ultralytics.nn.modules.block.C2f             [128, 128, 2, True]           \n",
      "  5                  -1  1    295424  ultralytics.nn.modules.conv.Conv             [128, 256, 3, 2]              \n",
      "  6                  -1  2    788480  ultralytics.nn.modules.block.C2f             [256, 256, 2, True]           \n",
      "  7                  -1  1   1180672  ultralytics.nn.modules.conv.Conv             [256, 512, 3, 2]              \n",
      "  8                  -1  1   1838080  ultralytics.nn.modules.block.C2f             [512, 512, 1, True]           \n",
      "  9                  -1  1    656896  ultralytics.nn.modules.block.SPPF            [512, 512, 5]                 \n",
      " 10                  -1  1         0  torch.nn.modules.upsampling.Upsample         [None, 2, 'nearest']          \n",
      " 11             [-1, 6]  1         0  ultralytics.nn.modules.conv.Concat           [1]                           \n",
      " 12                  -1  1    591360  ultralytics.nn.modules.block.C2f             [768, 256, 1]                 \n",
      " 13                  -1  1         0  torch.nn.modules.upsampling.Upsample         [None, 2, 'nearest']          \n",
      " 14             [-1, 4]  1         0  ultralytics.nn.modules.conv.Concat           [1]                           \n",
      " 15                  -1  1    148224  ultralytics.nn.modules.block.C2f             [384, 128, 1]                 \n",
      " 16                  -1  1    147712  ultralytics.nn.modules.conv.Conv             [128, 128, 3, 2]              \n",
      " 17            [-1, 12]  1         0  ultralytics.nn.modules.conv.Concat           [1]                           \n",
      " 18                  -1  1    493056  ultralytics.nn.modules.block.C2f             [384, 256, 1]                 \n",
      " 19                  -1  1    590336  ultralytics.nn.modules.conv.Conv             [256, 256, 3, 2]              \n",
      " 20             [-1, 9]  1         0  ultralytics.nn.modules.conv.Concat           [1]                           \n",
      " 21                  -1  1   1969152  ultralytics.nn.modules.block.C2f             [768, 512, 1]                 \n",
      " 22        [15, 18, 21]  1   2116435  ultralytics.nn.modules.head.Detect           [1, [128, 256, 512]]          \n",
      "Model summary: 225 layers, 11,135,987 parameters, 11,135,971 gradients, 28.6 GFLOPs\n",
      "\n",
      "Transferred 349/355 items from pretrained weights\n",
      "\u001b[34m\u001b[1mTensorBoard: \u001b[0mStart with 'tensorboard --logdir c:\\Users\\ansal\\source\\repos\\anomaly-detection\\runs\\detect\\train3', view at http://localhost:6006/\n",
      "Freezing layer 'model.22.dfl.conv.weight'\n"
     ]
    },
    {
     "name": "stderr",
     "output_type": "stream",
     "text": [
      "\u001b[34m\u001b[1mtrain: \u001b[0mScanning C:\\Users\\ansal\\source\\repos\\anomaly-detection\\data\\train\\labels... 7 images, 0 backgrounds, 0 corrupt: 100%|██████████| 7/7 [00:00<00:00, 110.13it/s]"
     ]
    },
    {
     "name": "stdout",
     "output_type": "stream",
     "text": [
      "\u001b[34m\u001b[1mtrain: \u001b[0mNew cache created: C:\\Users\\ansal\\source\\repos\\anomaly-detection\\data\\train\\labels.cache\n"
     ]
    },
    {
     "name": "stderr",
     "output_type": "stream",
     "text": [
      "\n",
      "\u001b[34m\u001b[1mval: \u001b[0mScanning C:\\Users\\ansal\\source\\repos\\anomaly-detection\\data\\valid\\labels... 3 images, 0 backgrounds, 0 corrupt: 100%|██████████| 3/3 [00:00<00:00, 213.82it/s]"
     ]
    },
    {
     "name": "stdout",
     "output_type": "stream",
     "text": [
      "\u001b[34m\u001b[1mval: \u001b[0mNew cache created: C:\\Users\\ansal\\source\\repos\\anomaly-detection\\data\\valid\\labels.cache\n"
     ]
    },
    {
     "name": "stderr",
     "output_type": "stream",
     "text": [
      "\n"
     ]
    },
    {
     "name": "stdout",
     "output_type": "stream",
     "text": [
      "Plotting labels to c:\\Users\\ansal\\source\\repos\\anomaly-detection\\runs\\detect\\train3\\labels.jpg... \n",
      "\u001b[34m\u001b[1moptimizer:\u001b[0m 'optimizer=auto' found, ignoring 'lr0=0.01' and 'momentum=0.937' and determining best 'optimizer', 'lr0' and 'momentum' automatically... \n",
      "\u001b[34m\u001b[1moptimizer:\u001b[0m AdamW(lr=0.002, momentum=0.9) with parameter groups 57 weight(decay=0.0), 64 weight(decay=0.0005), 63 bias(decay=0.0)\n",
      "\u001b[34m\u001b[1mTensorBoard: \u001b[0mmodel graph visualization added \n",
      "Image sizes 640 train, 640 val\n",
      "Using 0 dataloader workers\n",
      "Logging results to \u001b[1mc:\\Users\\ansal\\source\\repos\\anomaly-detection\\runs\\detect\\train3\u001b[0m\n",
      "Starting training for 50 epochs...\n",
      "\n",
      "      Epoch    GPU_mem   box_loss   cls_loss   dfl_loss  Instances       Size\n"
     ]
    },
    {
     "name": "stderr",
     "output_type": "stream",
     "text": [
      "       1/50         0G      1.762      4.528      1.888         21        640: 100%|██████████| 1/1 [00:08<00:00,  8.57s/it]\n",
      "                 Class     Images  Instances      Box(P          R      mAP50  mAP50-95): 100%|██████████| 1/1 [00:01<00:00,  1.53s/it]"
     ]
    },
    {
     "name": "stdout",
     "output_type": "stream",
     "text": [
      "                   all          3          3     0.0882      0.333      0.155      0.114\n"
     ]
    },
    {
     "name": "stderr",
     "output_type": "stream",
     "text": [
      "\n"
     ]
    },
    {
     "name": "stdout",
     "output_type": "stream",
     "text": [
      "\n",
      "      Epoch    GPU_mem   box_loss   cls_loss   dfl_loss  Instances       Size\n"
     ]
    },
    {
     "name": "stderr",
     "output_type": "stream",
     "text": [
      "       2/50         0G      2.239      4.859       2.17         23        640: 100%|██████████| 1/1 [00:05<00:00,  5.14s/it]\n",
      "                 Class     Images  Instances      Box(P          R      mAP50  mAP50-95): 100%|██████████| 1/1 [00:00<00:00,  2.15it/s]"
     ]
    },
    {
     "name": "stdout",
     "output_type": "stream",
     "text": [
      "                   all          3          3      0.139      0.667      0.202      0.156\n"
     ]
    },
    {
     "name": "stderr",
     "output_type": "stream",
     "text": [
      "\n"
     ]
    },
    {
     "name": "stdout",
     "output_type": "stream",
     "text": [
      "\n",
      "      Epoch    GPU_mem   box_loss   cls_loss   dfl_loss  Instances       Size\n"
     ]
    },
    {
     "name": "stderr",
     "output_type": "stream",
     "text": [
      "       3/50         0G      2.122      4.174      2.111         22        640: 100%|██████████| 1/1 [00:04<00:00,  4.88s/it]\n",
      "                 Class     Images  Instances      Box(P          R      mAP50  mAP50-95): 100%|██████████| 1/1 [00:00<00:00,  2.13it/s]"
     ]
    },
    {
     "name": "stdout",
     "output_type": "stream",
     "text": [
      "                   all          3          3       0.41      0.667      0.542      0.435\n"
     ]
    },
    {
     "name": "stderr",
     "output_type": "stream",
     "text": [
      "\n"
     ]
    },
    {
     "name": "stdout",
     "output_type": "stream",
     "text": [
      "\n",
      "      Epoch    GPU_mem   box_loss   cls_loss   dfl_loss  Instances       Size\n"
     ]
    },
    {
     "name": "stderr",
     "output_type": "stream",
     "text": [
      "       4/50         0G      1.671      2.983      1.664         22        640: 100%|██████████| 1/1 [00:04<00:00,  4.99s/it]\n",
      "                 Class     Images  Instances      Box(P          R      mAP50  mAP50-95): 100%|██████████| 1/1 [00:00<00:00,  1.38it/s]"
     ]
    },
    {
     "name": "stdout",
     "output_type": "stream",
     "text": [
      "                   all          3          3      0.659      0.667      0.608      0.476\n"
     ]
    },
    {
     "name": "stderr",
     "output_type": "stream",
     "text": [
      "\n"
     ]
    },
    {
     "name": "stdout",
     "output_type": "stream",
     "text": [
      "\n",
      "      Epoch    GPU_mem   box_loss   cls_loss   dfl_loss  Instances       Size\n"
     ]
    },
    {
     "name": "stderr",
     "output_type": "stream",
     "text": [
      "       5/50         0G      1.066      2.233       1.34         25        640: 100%|██████████| 1/1 [00:05<00:00,  5.92s/it]\n",
      "                 Class     Images  Instances      Box(P          R      mAP50  mAP50-95): 100%|██████████| 1/1 [00:00<00:00,  1.19it/s]"
     ]
    },
    {
     "name": "stdout",
     "output_type": "stream",
     "text": [
      "                   all          3          3      0.427          1      0.597      0.478\n"
     ]
    },
    {
     "name": "stderr",
     "output_type": "stream",
     "text": [
      "\n"
     ]
    },
    {
     "name": "stdout",
     "output_type": "stream",
     "text": [
      "\n",
      "      Epoch    GPU_mem   box_loss   cls_loss   dfl_loss  Instances       Size\n"
     ]
    },
    {
     "name": "stderr",
     "output_type": "stream",
     "text": [
      "       6/50         0G     0.8972      1.909      1.207         25        640: 100%|██████████| 1/1 [00:05<00:00,  5.84s/it]\n",
      "                 Class     Images  Instances      Box(P          R      mAP50  mAP50-95): 100%|██████████| 1/1 [00:00<00:00,  1.35it/s]"
     ]
    },
    {
     "name": "stdout",
     "output_type": "stream",
     "text": [
      "                   all          3          3      0.712          1       0.83      0.566\n"
     ]
    },
    {
     "name": "stderr",
     "output_type": "stream",
     "text": [
      "\n"
     ]
    },
    {
     "name": "stdout",
     "output_type": "stream",
     "text": [
      "\n",
      "      Epoch    GPU_mem   box_loss   cls_loss   dfl_loss  Instances       Size\n"
     ]
    },
    {
     "name": "stderr",
     "output_type": "stream",
     "text": [
      "       7/50         0G     0.7025      1.691      1.101         22        640: 100%|██████████| 1/1 [00:05<00:00,  5.66s/it]\n",
      "                 Class     Images  Instances      Box(P          R      mAP50  mAP50-95): 100%|██████████| 1/1 [00:00<00:00,  1.41it/s]"
     ]
    },
    {
     "name": "stdout",
     "output_type": "stream",
     "text": [
      "                   all          3          3      0.697          1      0.913      0.631\n"
     ]
    },
    {
     "name": "stderr",
     "output_type": "stream",
     "text": [
      "\n"
     ]
    },
    {
     "name": "stdout",
     "output_type": "stream",
     "text": [
      "\n",
      "      Epoch    GPU_mem   box_loss   cls_loss   dfl_loss  Instances       Size\n"
     ]
    },
    {
     "name": "stderr",
     "output_type": "stream",
     "text": [
      "       8/50         0G     0.7435      1.674      1.173         17        640: 100%|██████████| 1/1 [00:05<00:00,  5.55s/it]\n",
      "                 Class     Images  Instances      Box(P          R      mAP50  mAP50-95): 100%|██████████| 1/1 [00:00<00:00,  1.35it/s]"
     ]
    },
    {
     "name": "stdout",
     "output_type": "stream",
     "text": [
      "                   all          3          3      0.633          1       0.83      0.631\n"
     ]
    },
    {
     "name": "stderr",
     "output_type": "stream",
     "text": [
      "\n"
     ]
    },
    {
     "name": "stdout",
     "output_type": "stream",
     "text": [
      "\n",
      "      Epoch    GPU_mem   box_loss   cls_loss   dfl_loss  Instances       Size\n"
     ]
    },
    {
     "name": "stderr",
     "output_type": "stream",
     "text": [
      "       9/50         0G     0.5437      1.417      1.043         27        640: 100%|██████████| 1/1 [00:06<00:00,  6.19s/it]\n",
      "                 Class     Images  Instances      Box(P          R      mAP50  mAP50-95): 100%|██████████| 1/1 [00:00<00:00,  1.08it/s]"
     ]
    },
    {
     "name": "stdout",
     "output_type": "stream",
     "text": [
      "                   all          3          3       0.49          1       0.72      0.576\n"
     ]
    },
    {
     "name": "stderr",
     "output_type": "stream",
     "text": [
      "\n"
     ]
    },
    {
     "name": "stdout",
     "output_type": "stream",
     "text": [
      "\n",
      "      Epoch    GPU_mem   box_loss   cls_loss   dfl_loss  Instances       Size\n"
     ]
    },
    {
     "name": "stderr",
     "output_type": "stream",
     "text": [
      "      10/50         0G     0.4779      1.503      0.922         19        640: 100%|██████████| 1/1 [00:05<00:00,  5.81s/it]\n",
      "                 Class     Images  Instances      Box(P          R      mAP50  mAP50-95): 100%|██████████| 1/1 [00:00<00:00,  1.25it/s]"
     ]
    },
    {
     "name": "stdout",
     "output_type": "stream",
     "text": [
      "                   all          3          3      0.573          1      0.863      0.757\n"
     ]
    },
    {
     "name": "stderr",
     "output_type": "stream",
     "text": [
      "\n"
     ]
    },
    {
     "name": "stdout",
     "output_type": "stream",
     "text": [
      "\n",
      "      Epoch    GPU_mem   box_loss   cls_loss   dfl_loss  Instances       Size\n"
     ]
    },
    {
     "name": "stderr",
     "output_type": "stream",
     "text": [
      "      11/50         0G     0.3787      1.033      0.893         25        640: 100%|██████████| 1/1 [00:05<00:00,  5.67s/it]\n",
      "                 Class     Images  Instances      Box(P          R      mAP50  mAP50-95): 100%|██████████| 1/1 [00:00<00:00,  1.31it/s]"
     ]
    },
    {
     "name": "stdout",
     "output_type": "stream",
     "text": [
      "                   all          3          3      0.599          1      0.913      0.797\n"
     ]
    },
    {
     "name": "stderr",
     "output_type": "stream",
     "text": [
      "\n"
     ]
    },
    {
     "name": "stdout",
     "output_type": "stream",
     "text": [
      "\n",
      "      Epoch    GPU_mem   box_loss   cls_loss   dfl_loss  Instances       Size\n"
     ]
    },
    {
     "name": "stderr",
     "output_type": "stream",
     "text": [
      "      12/50         0G     0.4921      1.079      1.025         24        640: 100%|██████████| 1/1 [00:06<00:00,  6.02s/it]\n",
      "                 Class     Images  Instances      Box(P          R      mAP50  mAP50-95): 100%|██████████| 1/1 [00:00<00:00,  1.39it/s]"
     ]
    },
    {
     "name": "stdout",
     "output_type": "stream",
     "text": [
      "                   all          3          3      0.496          1      0.913      0.821\n"
     ]
    },
    {
     "name": "stderr",
     "output_type": "stream",
     "text": [
      "\n"
     ]
    },
    {
     "name": "stdout",
     "output_type": "stream",
     "text": [
      "\n",
      "      Epoch    GPU_mem   box_loss   cls_loss   dfl_loss  Instances       Size\n"
     ]
    },
    {
     "name": "stderr",
     "output_type": "stream",
     "text": [
      "      13/50         0G     0.4086      1.164      1.015         21        640: 100%|██████████| 1/1 [00:05<00:00,  5.54s/it]\n",
      "                 Class     Images  Instances      Box(P          R      mAP50  mAP50-95): 100%|██████████| 1/1 [00:00<00:00,  1.36it/s]"
     ]
    },
    {
     "name": "stdout",
     "output_type": "stream",
     "text": [
      "                   all          3          3      0.695          1      0.746      0.672\n"
     ]
    },
    {
     "name": "stderr",
     "output_type": "stream",
     "text": [
      "\n"
     ]
    },
    {
     "name": "stdout",
     "output_type": "stream",
     "text": [
      "\n",
      "      Epoch    GPU_mem   box_loss   cls_loss   dfl_loss  Instances       Size\n"
     ]
    },
    {
     "name": "stderr",
     "output_type": "stream",
     "text": [
      "      14/50         0G     0.4691      1.012     0.9213         24        640: 100%|██████████| 1/1 [00:05<00:00,  5.63s/it]\n",
      "                 Class     Images  Instances      Box(P          R      mAP50  mAP50-95): 100%|██████████| 1/1 [00:00<00:00,  1.39it/s]"
     ]
    },
    {
     "name": "stdout",
     "output_type": "stream",
     "text": [
      "                   all          3          3      0.717          1      0.746      0.672\n"
     ]
    },
    {
     "name": "stderr",
     "output_type": "stream",
     "text": [
      "\n"
     ]
    },
    {
     "name": "stdout",
     "output_type": "stream",
     "text": [
      "\n",
      "      Epoch    GPU_mem   box_loss   cls_loss   dfl_loss  Instances       Size\n"
     ]
    },
    {
     "name": "stderr",
     "output_type": "stream",
     "text": [
      "      15/50         0G     0.4031      1.097     0.9667         21        640: 100%|██████████| 1/1 [00:05<00:00,  5.68s/it]\n",
      "                 Class     Images  Instances      Box(P          R      mAP50  mAP50-95): 100%|██████████| 1/1 [00:00<00:00,  1.29it/s]"
     ]
    },
    {
     "name": "stdout",
     "output_type": "stream",
     "text": [
      "                   all          3          3      0.666          1       0.83      0.731\n"
     ]
    },
    {
     "name": "stderr",
     "output_type": "stream",
     "text": [
      "\n"
     ]
    },
    {
     "name": "stdout",
     "output_type": "stream",
     "text": [
      "\n",
      "      Epoch    GPU_mem   box_loss   cls_loss   dfl_loss  Instances       Size\n"
     ]
    },
    {
     "name": "stderr",
     "output_type": "stream",
     "text": [
      "      16/50         0G     0.4509      1.185     0.9644         14        640: 100%|██████████| 1/1 [00:05<00:00,  5.57s/it]\n",
      "                 Class     Images  Instances      Box(P          R      mAP50  mAP50-95): 100%|██████████| 1/1 [00:00<00:00,  1.44it/s]"
     ]
    },
    {
     "name": "stdout",
     "output_type": "stream",
     "text": [
      "                   all          3          3      0.578          1       0.83      0.755\n"
     ]
    },
    {
     "name": "stderr",
     "output_type": "stream",
     "text": [
      "\n"
     ]
    },
    {
     "name": "stdout",
     "output_type": "stream",
     "text": [
      "\n",
      "      Epoch    GPU_mem   box_loss   cls_loss   dfl_loss  Instances       Size\n"
     ]
    },
    {
     "name": "stderr",
     "output_type": "stream",
     "text": [
      "      17/50         0G     0.3518      1.003     0.9663         14        640: 100%|██████████| 1/1 [00:05<00:00,  5.50s/it]\n",
      "                 Class     Images  Instances      Box(P          R      mAP50  mAP50-95): 100%|██████████| 1/1 [00:00<00:00,  1.54it/s]"
     ]
    },
    {
     "name": "stdout",
     "output_type": "stream",
     "text": [
      "                   all          3          3      0.483          1      0.913      0.913\n"
     ]
    },
    {
     "name": "stderr",
     "output_type": "stream",
     "text": [
      "\n"
     ]
    },
    {
     "name": "stdout",
     "output_type": "stream",
     "text": [
      "\n",
      "      Epoch    GPU_mem   box_loss   cls_loss   dfl_loss  Instances       Size\n"
     ]
    },
    {
     "name": "stderr",
     "output_type": "stream",
     "text": [
      "      18/50         0G     0.4204     0.9026      0.911         24        640: 100%|██████████| 1/1 [00:05<00:00,  5.37s/it]\n",
      "                 Class     Images  Instances      Box(P          R      mAP50  mAP50-95): 100%|██████████| 1/1 [00:00<00:00,  1.66it/s]"
     ]
    },
    {
     "name": "stdout",
     "output_type": "stream",
     "text": [
      "                   all          3          3      0.483          1      0.913      0.913\n"
     ]
    },
    {
     "name": "stderr",
     "output_type": "stream",
     "text": [
      "\n"
     ]
    },
    {
     "name": "stdout",
     "output_type": "stream",
     "text": [
      "\n",
      "      Epoch    GPU_mem   box_loss   cls_loss   dfl_loss  Instances       Size\n"
     ]
    },
    {
     "name": "stderr",
     "output_type": "stream",
     "text": [
      "      19/50         0G     0.4463     0.8908      0.942         26        640: 100%|██████████| 1/1 [00:05<00:00,  5.64s/it]\n",
      "                 Class     Images  Instances      Box(P          R      mAP50  mAP50-95): 100%|██████████| 1/1 [00:00<00:00,  1.66it/s]"
     ]
    },
    {
     "name": "stdout",
     "output_type": "stream",
     "text": [
      "                   all          3          3      0.494          1       0.83      0.755\n"
     ]
    },
    {
     "name": "stderr",
     "output_type": "stream",
     "text": [
      "\n"
     ]
    },
    {
     "name": "stdout",
     "output_type": "stream",
     "text": [
      "\n",
      "      Epoch    GPU_mem   box_loss   cls_loss   dfl_loss  Instances       Size\n"
     ]
    },
    {
     "name": "stderr",
     "output_type": "stream",
     "text": [
      "      20/50         0G     0.4186     0.6235     0.9721         25        640: 100%|██████████| 1/1 [00:05<00:00,  5.33s/it]\n",
      "                 Class     Images  Instances      Box(P          R      mAP50  mAP50-95): 100%|██████████| 1/1 [00:00<00:00,  1.63it/s]"
     ]
    },
    {
     "name": "stdout",
     "output_type": "stream",
     "text": [
      "                   all          3          3      0.494          1       0.83      0.755\n"
     ]
    },
    {
     "name": "stderr",
     "output_type": "stream",
     "text": [
      "\n"
     ]
    },
    {
     "name": "stdout",
     "output_type": "stream",
     "text": [
      "\n",
      "      Epoch    GPU_mem   box_loss   cls_loss   dfl_loss  Instances       Size\n"
     ]
    },
    {
     "name": "stderr",
     "output_type": "stream",
     "text": [
      "      21/50         0G      0.468     0.7472     0.9836         21        640: 100%|██████████| 1/1 [00:06<00:00,  6.14s/it]\n",
      "                 Class     Images  Instances      Box(P          R      mAP50  mAP50-95): 100%|██████████| 1/1 [00:00<00:00,  1.31it/s]"
     ]
    },
    {
     "name": "stdout",
     "output_type": "stream",
     "text": [
      "                   all          3          3      0.496          1      0.995      0.895\n"
     ]
    },
    {
     "name": "stderr",
     "output_type": "stream",
     "text": [
      "\n"
     ]
    },
    {
     "name": "stdout",
     "output_type": "stream",
     "text": [
      "\n",
      "      Epoch    GPU_mem   box_loss   cls_loss   dfl_loss  Instances       Size\n"
     ]
    },
    {
     "name": "stderr",
     "output_type": "stream",
     "text": [
      "      22/50         0G     0.4205     0.8579      0.947         17        640: 100%|██████████| 1/1 [00:05<00:00,  5.28s/it]\n",
      "                 Class     Images  Instances      Box(P          R      mAP50  mAP50-95): 100%|██████████| 1/1 [00:00<00:00,  1.64it/s]"
     ]
    },
    {
     "name": "stdout",
     "output_type": "stream",
     "text": [
      "                   all          3          3      0.496          1      0.995      0.895\n"
     ]
    },
    {
     "name": "stderr",
     "output_type": "stream",
     "text": [
      "\n"
     ]
    },
    {
     "name": "stdout",
     "output_type": "stream",
     "text": [
      "\n",
      "      Epoch    GPU_mem   box_loss   cls_loss   dfl_loss  Instances       Size\n"
     ]
    },
    {
     "name": "stderr",
     "output_type": "stream",
     "text": [
      "      23/50         0G     0.4787      1.198     0.9454         17        640: 100%|██████████| 1/1 [00:05<00:00,  5.45s/it]\n",
      "                 Class     Images  Instances      Box(P          R      mAP50  mAP50-95): 100%|██████████| 1/1 [00:00<00:00,  1.87it/s]"
     ]
    },
    {
     "name": "stdout",
     "output_type": "stream",
     "text": [
      "                   all          3          3      0.578          1      0.913      0.838\n"
     ]
    },
    {
     "name": "stderr",
     "output_type": "stream",
     "text": [
      "\n"
     ]
    },
    {
     "name": "stdout",
     "output_type": "stream",
     "text": [
      "\n",
      "      Epoch    GPU_mem   box_loss   cls_loss   dfl_loss  Instances       Size\n"
     ]
    },
    {
     "name": "stderr",
     "output_type": "stream",
     "text": [
      "      24/50         0G     0.5822     0.6265     0.8994         25        640: 100%|██████████| 1/1 [00:05<00:00,  5.36s/it]\n",
      "                 Class     Images  Instances      Box(P          R      mAP50  mAP50-95): 100%|██████████| 1/1 [00:00<00:00,  1.66it/s]"
     ]
    },
    {
     "name": "stdout",
     "output_type": "stream",
     "text": [
      "                   all          3          3      0.578          1      0.913      0.838\n"
     ]
    },
    {
     "name": "stderr",
     "output_type": "stream",
     "text": [
      "\n"
     ]
    },
    {
     "name": "stdout",
     "output_type": "stream",
     "text": [
      "\n",
      "      Epoch    GPU_mem   box_loss   cls_loss   dfl_loss  Instances       Size\n"
     ]
    },
    {
     "name": "stderr",
     "output_type": "stream",
     "text": [
      "      25/50         0G     0.5367     0.7106     0.9365         26        640: 100%|██████████| 1/1 [00:05<00:00,  5.46s/it]\n",
      "                 Class     Images  Instances      Box(P          R      mAP50  mAP50-95): 100%|██████████| 1/1 [00:00<00:00,  1.50it/s]"
     ]
    },
    {
     "name": "stdout",
     "output_type": "stream",
     "text": [
      "                   all          3          3      0.598          1       0.83      0.797\n"
     ]
    },
    {
     "name": "stderr",
     "output_type": "stream",
     "text": [
      "\n"
     ]
    },
    {
     "name": "stdout",
     "output_type": "stream",
     "text": [
      "\n",
      "      Epoch    GPU_mem   box_loss   cls_loss   dfl_loss  Instances       Size\n"
     ]
    },
    {
     "name": "stderr",
     "output_type": "stream",
     "text": [
      "      26/50         0G     0.4613     0.6961     0.9454         25        640: 100%|██████████| 1/1 [00:05<00:00,  5.49s/it]\n",
      "                 Class     Images  Instances      Box(P          R      mAP50  mAP50-95): 100%|██████████| 1/1 [00:00<00:00,  1.59it/s]"
     ]
    },
    {
     "name": "stdout",
     "output_type": "stream",
     "text": [
      "                   all          3          3      0.598          1       0.83      0.797\n"
     ]
    },
    {
     "name": "stderr",
     "output_type": "stream",
     "text": [
      "\n"
     ]
    },
    {
     "name": "stdout",
     "output_type": "stream",
     "text": [
      "\n",
      "      Epoch    GPU_mem   box_loss   cls_loss   dfl_loss  Instances       Size\n"
     ]
    },
    {
     "name": "stderr",
     "output_type": "stream",
     "text": [
      "      27/50         0G     0.3818     0.6601     0.8827         23        640: 100%|██████████| 1/1 [00:05<00:00,  5.53s/it]\n",
      "                 Class     Images  Instances      Box(P          R      mAP50  mAP50-95): 100%|██████████| 1/1 [00:00<00:00,  1.62it/s]"
     ]
    },
    {
     "name": "stdout",
     "output_type": "stream",
     "text": [
      "                   all          3          3      0.518          1      0.913      0.855\n"
     ]
    },
    {
     "name": "stderr",
     "output_type": "stream",
     "text": [
      "\n"
     ]
    },
    {
     "name": "stdout",
     "output_type": "stream",
     "text": [
      "\n",
      "      Epoch    GPU_mem   box_loss   cls_loss   dfl_loss  Instances       Size\n"
     ]
    },
    {
     "name": "stderr",
     "output_type": "stream",
     "text": [
      "      28/50         0G     0.4805     0.5532     0.9334         22        640: 100%|██████████| 1/1 [00:05<00:00,  5.39s/it]\n",
      "                 Class     Images  Instances      Box(P          R      mAP50  mAP50-95): 100%|██████████| 1/1 [00:00<00:00,  1.60it/s]"
     ]
    },
    {
     "name": "stdout",
     "output_type": "stream",
     "text": [
      "                   all          3          3      0.518          1      0.913      0.855\n"
     ]
    },
    {
     "name": "stderr",
     "output_type": "stream",
     "text": [
      "\n"
     ]
    },
    {
     "name": "stdout",
     "output_type": "stream",
     "text": [
      "\n",
      "      Epoch    GPU_mem   box_loss   cls_loss   dfl_loss  Instances       Size\n"
     ]
    },
    {
     "name": "stderr",
     "output_type": "stream",
     "text": [
      "      29/50         0G      0.399     0.7085     0.8922         17        640: 100%|██████████| 1/1 [00:05<00:00,  5.53s/it]\n",
      "                 Class     Images  Instances      Box(P          R      mAP50  mAP50-95): 100%|██████████| 1/1 [00:00<00:00,  1.62it/s]"
     ]
    },
    {
     "name": "stdout",
     "output_type": "stream",
     "text": [
      "                   all          3          3      0.498          1      0.913      0.855\n"
     ]
    },
    {
     "name": "stderr",
     "output_type": "stream",
     "text": [
      "\n"
     ]
    },
    {
     "name": "stdout",
     "output_type": "stream",
     "text": [
      "\n",
      "      Epoch    GPU_mem   box_loss   cls_loss   dfl_loss  Instances       Size\n"
     ]
    },
    {
     "name": "stderr",
     "output_type": "stream",
     "text": [
      "      30/50         0G     0.4536     0.6236     0.9256         26        640: 100%|██████████| 1/1 [00:05<00:00,  5.43s/it]\n",
      "                 Class     Images  Instances      Box(P          R      mAP50  mAP50-95): 100%|██████████| 1/1 [00:00<00:00,  1.65it/s]"
     ]
    },
    {
     "name": "stdout",
     "output_type": "stream",
     "text": [
      "                   all          3          3      0.498          1      0.913      0.855\n"
     ]
    },
    {
     "name": "stderr",
     "output_type": "stream",
     "text": [
      "\n"
     ]
    },
    {
     "name": "stdout",
     "output_type": "stream",
     "text": [
      "\n",
      "      Epoch    GPU_mem   box_loss   cls_loss   dfl_loss  Instances       Size\n"
     ]
    },
    {
     "name": "stderr",
     "output_type": "stream",
     "text": [
      "      31/50         0G     0.4661     0.5688      0.962         19        640: 100%|██████████| 1/1 [00:05<00:00,  5.47s/it]\n",
      "                 Class     Images  Instances      Box(P          R      mAP50  mAP50-95): 100%|██████████| 1/1 [00:00<00:00,  1.71it/s]"
     ]
    },
    {
     "name": "stdout",
     "output_type": "stream",
     "text": [
      "                   all          3          3      0.498          1       0.83      0.781\n"
     ]
    },
    {
     "name": "stderr",
     "output_type": "stream",
     "text": [
      "\n"
     ]
    },
    {
     "name": "stdout",
     "output_type": "stream",
     "text": [
      "\n",
      "      Epoch    GPU_mem   box_loss   cls_loss   dfl_loss  Instances       Size\n"
     ]
    },
    {
     "name": "stderr",
     "output_type": "stream",
     "text": [
      "      32/50         0G     0.3766      0.599     0.9117         21        640: 100%|██████████| 1/1 [00:05<00:00,  5.40s/it]\n",
      "                 Class     Images  Instances      Box(P          R      mAP50  mAP50-95): 100%|██████████| 1/1 [00:00<00:00,  1.51it/s]"
     ]
    },
    {
     "name": "stdout",
     "output_type": "stream",
     "text": [
      "                   all          3          3      0.498          1       0.83      0.781\n"
     ]
    },
    {
     "name": "stderr",
     "output_type": "stream",
     "text": [
      "\n"
     ]
    },
    {
     "name": "stdout",
     "output_type": "stream",
     "text": [
      "\n",
      "      Epoch    GPU_mem   box_loss   cls_loss   dfl_loss  Instances       Size\n"
     ]
    },
    {
     "name": "stderr",
     "output_type": "stream",
     "text": [
      "      33/50         0G     0.3625     0.6277     0.8854         29        640: 100%|██████████| 1/1 [00:05<00:00,  5.66s/it]\n",
      "                 Class     Images  Instances      Box(P          R      mAP50  mAP50-95): 100%|██████████| 1/1 [00:00<00:00,  1.45it/s]"
     ]
    },
    {
     "name": "stdout",
     "output_type": "stream",
     "text": [
      "                   all          3          3      0.552          1       0.83      0.781\n"
     ]
    },
    {
     "name": "stderr",
     "output_type": "stream",
     "text": [
      "\n"
     ]
    },
    {
     "name": "stdout",
     "output_type": "stream",
     "text": [
      "\n",
      "      Epoch    GPU_mem   box_loss   cls_loss   dfl_loss  Instances       Size\n"
     ]
    },
    {
     "name": "stderr",
     "output_type": "stream",
     "text": [
      "      34/50         0G     0.3042     0.5221     0.7881         23        640: 100%|██████████| 1/1 [00:06<00:00,  6.05s/it]\n",
      "                 Class     Images  Instances      Box(P          R      mAP50  mAP50-95): 100%|██████████| 1/1 [00:00<00:00,  1.15it/s]"
     ]
    },
    {
     "name": "stdout",
     "output_type": "stream",
     "text": [
      "                   all          3          3      0.552          1       0.83      0.781\n"
     ]
    },
    {
     "name": "stderr",
     "output_type": "stream",
     "text": [
      "\n"
     ]
    },
    {
     "name": "stdout",
     "output_type": "stream",
     "text": [
      "\n",
      "      Epoch    GPU_mem   box_loss   cls_loss   dfl_loss  Instances       Size\n"
     ]
    },
    {
     "name": "stderr",
     "output_type": "stream",
     "text": [
      "      35/50         0G     0.3175     0.5034     0.9051         30        640: 100%|██████████| 1/1 [00:06<00:00,  6.37s/it]\n",
      "                 Class     Images  Instances      Box(P          R      mAP50  mAP50-95): 100%|██████████| 1/1 [00:00<00:00,  1.19it/s]"
     ]
    },
    {
     "name": "stdout",
     "output_type": "stream",
     "text": [
      "                   all          3          3      0.585          1       0.83      0.797\n"
     ]
    },
    {
     "name": "stderr",
     "output_type": "stream",
     "text": [
      "\n"
     ]
    },
    {
     "name": "stdout",
     "output_type": "stream",
     "text": [
      "\n",
      "      Epoch    GPU_mem   box_loss   cls_loss   dfl_loss  Instances       Size\n"
     ]
    },
    {
     "name": "stderr",
     "output_type": "stream",
     "text": [
      "      36/50         0G     0.3378     0.4706      0.911         22        640: 100%|██████████| 1/1 [23:15<00:00, 1395.37s/it]\n",
      "                 Class     Images  Instances      Box(P          R      mAP50  mAP50-95): 100%|██████████| 1/1 [00:00<00:00,  1.14it/s]"
     ]
    },
    {
     "name": "stdout",
     "output_type": "stream",
     "text": [
      "                   all          3          3      0.585          1       0.83      0.797\n"
     ]
    },
    {
     "name": "stderr",
     "output_type": "stream",
     "text": [
      "\n"
     ]
    },
    {
     "name": "stdout",
     "output_type": "stream",
     "text": [
      "\n",
      "      Epoch    GPU_mem   box_loss   cls_loss   dfl_loss  Instances       Size\n"
     ]
    },
    {
     "name": "stderr",
     "output_type": "stream",
     "text": [
      "      37/50         0G       0.36     0.5936     0.9176         21        640: 100%|██████████| 1/1 [00:06<00:00,  6.51s/it]\n",
      "                 Class     Images  Instances      Box(P          R      mAP50  mAP50-95): 100%|██████████| 1/1 [00:00<00:00,  1.45it/s]"
     ]
    },
    {
     "name": "stdout",
     "output_type": "stream",
     "text": [
      "                   all          3          3      0.595          1       0.83      0.797\n"
     ]
    },
    {
     "name": "stderr",
     "output_type": "stream",
     "text": [
      "\n"
     ]
    },
    {
     "name": "stdout",
     "output_type": "stream",
     "text": [
      "\n",
      "      Epoch    GPU_mem   box_loss   cls_loss   dfl_loss  Instances       Size\n"
     ]
    },
    {
     "name": "stderr",
     "output_type": "stream",
     "text": [
      "      38/50         0G     0.3308     0.5397     0.8903         25        640: 100%|██████████| 1/1 [00:05<00:00,  5.23s/it]\n",
      "                 Class     Images  Instances      Box(P          R      mAP50  mAP50-95): 100%|██████████| 1/1 [00:00<00:00,  1.83it/s]"
     ]
    },
    {
     "name": "stdout",
     "output_type": "stream",
     "text": [
      "                   all          3          3      0.595          1       0.83      0.797\n"
     ]
    },
    {
     "name": "stderr",
     "output_type": "stream",
     "text": [
      "\n"
     ]
    },
    {
     "name": "stdout",
     "output_type": "stream",
     "text": [
      "\n",
      "      Epoch    GPU_mem   box_loss   cls_loss   dfl_loss  Instances       Size\n"
     ]
    },
    {
     "name": "stderr",
     "output_type": "stream",
     "text": [
      "      39/50         0G     0.3522     0.4391     0.9102         24        640: 100%|██████████| 1/1 [00:10<00:00, 10.06s/it]\n",
      "                 Class     Images  Instances      Box(P          R      mAP50  mAP50-95): 100%|██████████| 1/1 [00:01<00:00,  1.28s/it]"
     ]
    },
    {
     "name": "stdout",
     "output_type": "stream",
     "text": [
      "                   all          3          3      0.712          1       0.83       0.83\n"
     ]
    },
    {
     "name": "stderr",
     "output_type": "stream",
     "text": [
      "\n"
     ]
    },
    {
     "name": "stdout",
     "output_type": "stream",
     "text": [
      "\n",
      "      Epoch    GPU_mem   box_loss   cls_loss   dfl_loss  Instances       Size\n"
     ]
    },
    {
     "name": "stderr",
     "output_type": "stream",
     "text": [
      "      40/50         0G     0.3706     0.6415     0.8802         21        640: 100%|██████████| 1/1 [00:10<00:00, 10.76s/it]\n",
      "                 Class     Images  Instances      Box(P          R      mAP50  mAP50-95): 100%|██████████| 1/1 [00:01<00:00,  1.55s/it]"
     ]
    },
    {
     "name": "stdout",
     "output_type": "stream",
     "text": [
      "                   all          3          3      0.712          1       0.83       0.83\n"
     ]
    },
    {
     "name": "stderr",
     "output_type": "stream",
     "text": [
      "\n"
     ]
    },
    {
     "name": "stdout",
     "output_type": "stream",
     "text": [
      "Closing dataloader mosaic\n",
      "\n",
      "      Epoch    GPU_mem   box_loss   cls_loss   dfl_loss  Instances       Size\n"
     ]
    },
    {
     "name": "stderr",
     "output_type": "stream",
     "text": [
      "      41/50         0G     0.2678      1.084     0.9549          8        640: 100%|██████████| 1/1 [00:10<00:00, 10.53s/it]\n",
      "                 Class     Images  Instances      Box(P          R      mAP50  mAP50-95): 100%|██████████| 1/1 [00:01<00:00,  1.02s/it]"
     ]
    },
    {
     "name": "stdout",
     "output_type": "stream",
     "text": [
      "                   all          3          3      0.723          1       0.83       0.83\n"
     ]
    },
    {
     "name": "stderr",
     "output_type": "stream",
     "text": [
      "\n"
     ]
    },
    {
     "name": "stdout",
     "output_type": "stream",
     "text": [
      "\n",
      "      Epoch    GPU_mem   box_loss   cls_loss   dfl_loss  Instances       Size\n"
     ]
    },
    {
     "name": "stderr",
     "output_type": "stream",
     "text": [
      "      42/50         0G     0.2637     0.7493     0.8938          8        640: 100%|██████████| 1/1 [00:09<00:00,  9.97s/it]\n",
      "                 Class     Images  Instances      Box(P          R      mAP50  mAP50-95): 100%|██████████| 1/1 [00:01<00:00,  1.30s/it]"
     ]
    },
    {
     "name": "stdout",
     "output_type": "stream",
     "text": [
      "                   all          3          3      0.723          1       0.83       0.83\n"
     ]
    },
    {
     "name": "stderr",
     "output_type": "stream",
     "text": [
      "\n"
     ]
    },
    {
     "name": "stdout",
     "output_type": "stream",
     "text": [
      "\n",
      "      Epoch    GPU_mem   box_loss   cls_loss   dfl_loss  Instances       Size\n"
     ]
    },
    {
     "name": "stderr",
     "output_type": "stream",
     "text": [
      "      43/50         0G     0.2566     0.7997     0.9174          8        640: 100%|██████████| 1/1 [00:10<00:00, 10.03s/it]\n",
      "                 Class     Images  Instances      Box(P          R      mAP50  mAP50-95): 100%|██████████| 1/1 [00:01<00:00,  1.18s/it]"
     ]
    },
    {
     "name": "stdout",
     "output_type": "stream",
     "text": [
      "                   all          3          3      0.726          1       0.83       0.83\n"
     ]
    },
    {
     "name": "stderr",
     "output_type": "stream",
     "text": [
      "\n"
     ]
    },
    {
     "name": "stdout",
     "output_type": "stream",
     "text": [
      "\n",
      "      Epoch    GPU_mem   box_loss   cls_loss   dfl_loss  Instances       Size\n"
     ]
    },
    {
     "name": "stderr",
     "output_type": "stream",
     "text": [
      "      44/50         0G     0.3457      0.773     0.8927          8        640: 100%|██████████| 1/1 [00:10<00:00, 10.51s/it]\n",
      "                 Class     Images  Instances      Box(P          R      mAP50  mAP50-95): 100%|██████████| 1/1 [00:01<00:00,  1.22s/it]"
     ]
    },
    {
     "name": "stdout",
     "output_type": "stream",
     "text": [
      "                   all          3          3      0.726          1       0.83       0.83\n"
     ]
    },
    {
     "name": "stderr",
     "output_type": "stream",
     "text": [
      "\n"
     ]
    },
    {
     "name": "stdout",
     "output_type": "stream",
     "text": [
      "\n",
      "      Epoch    GPU_mem   box_loss   cls_loss   dfl_loss  Instances       Size\n"
     ]
    },
    {
     "name": "stderr",
     "output_type": "stream",
     "text": [
      "      45/50         0G     0.2582     0.8402     0.9877          8        640: 100%|██████████| 1/1 [00:10<00:00, 10.19s/it]\n",
      "                 Class     Images  Instances      Box(P          R      mAP50  mAP50-95): 100%|██████████| 1/1 [00:01<00:00,  1.34s/it]"
     ]
    },
    {
     "name": "stdout",
     "output_type": "stream",
     "text": [
      "                   all          3          3      0.729          1       0.83       0.83\n"
     ]
    },
    {
     "name": "stderr",
     "output_type": "stream",
     "text": [
      "\n"
     ]
    },
    {
     "name": "stdout",
     "output_type": "stream",
     "text": [
      "\n",
      "      Epoch    GPU_mem   box_loss   cls_loss   dfl_loss  Instances       Size\n"
     ]
    },
    {
     "name": "stderr",
     "output_type": "stream",
     "text": [
      "      46/50         0G     0.2314     0.6941     0.9214          8        640: 100%|██████████| 1/1 [00:10<00:00, 10.02s/it]\n",
      "                 Class     Images  Instances      Box(P          R      mAP50  mAP50-95): 100%|██████████| 1/1 [00:01<00:00,  1.23s/it]"
     ]
    },
    {
     "name": "stdout",
     "output_type": "stream",
     "text": [
      "                   all          3          3      0.729          1       0.83       0.83\n"
     ]
    },
    {
     "name": "stderr",
     "output_type": "stream",
     "text": [
      "\n"
     ]
    },
    {
     "name": "stdout",
     "output_type": "stream",
     "text": [
      "\n",
      "      Epoch    GPU_mem   box_loss   cls_loss   dfl_loss  Instances       Size\n"
     ]
    },
    {
     "name": "stderr",
     "output_type": "stream",
     "text": [
      "      47/50         0G     0.2447     0.7027     0.9271          8        640: 100%|██████████| 1/1 [00:10<00:00, 10.54s/it]\n",
      "                 Class     Images  Instances      Box(P          R      mAP50  mAP50-95): 100%|██████████| 1/1 [00:01<00:00,  1.43s/it]"
     ]
    },
    {
     "name": "stdout",
     "output_type": "stream",
     "text": [
      "                   all          3          3      0.725          1       0.83       0.83\n"
     ]
    },
    {
     "name": "stderr",
     "output_type": "stream",
     "text": [
      "\n"
     ]
    },
    {
     "name": "stdout",
     "output_type": "stream",
     "text": [
      "\n",
      "      Epoch    GPU_mem   box_loss   cls_loss   dfl_loss  Instances       Size\n"
     ]
    },
    {
     "name": "stderr",
     "output_type": "stream",
     "text": [
      "      48/50         0G     0.3607     0.7654     0.8886          8        640: 100%|██████████| 1/1 [00:10<00:00, 10.45s/it]\n",
      "                 Class     Images  Instances      Box(P          R      mAP50  mAP50-95): 100%|██████████| 1/1 [00:01<00:00,  1.28s/it]"
     ]
    },
    {
     "name": "stdout",
     "output_type": "stream",
     "text": [
      "                   all          3          3      0.725          1       0.83       0.83\n"
     ]
    },
    {
     "name": "stderr",
     "output_type": "stream",
     "text": [
      "\n"
     ]
    },
    {
     "name": "stdout",
     "output_type": "stream",
     "text": [
      "\n",
      "      Epoch    GPU_mem   box_loss   cls_loss   dfl_loss  Instances       Size\n"
     ]
    },
    {
     "name": "stderr",
     "output_type": "stream",
     "text": [
      "      49/50         0G     0.2334     0.7376     0.8595          8        640: 100%|██████████| 1/1 [00:10<00:00, 10.71s/it]\n",
      "                 Class     Images  Instances      Box(P          R      mAP50  mAP50-95): 100%|██████████| 1/1 [00:01<00:00,  1.41s/it]"
     ]
    },
    {
     "name": "stdout",
     "output_type": "stream",
     "text": [
      "                   all          3          3      0.702          1       0.83       0.83\n"
     ]
    },
    {
     "name": "stderr",
     "output_type": "stream",
     "text": [
      "\n"
     ]
    },
    {
     "name": "stdout",
     "output_type": "stream",
     "text": [
      "\n",
      "      Epoch    GPU_mem   box_loss   cls_loss   dfl_loss  Instances       Size\n"
     ]
    },
    {
     "name": "stderr",
     "output_type": "stream",
     "text": [
      "      50/50         0G     0.2333     0.6747     0.8135          8        640: 100%|██████████| 1/1 [00:10<00:00, 10.58s/it]\n",
      "                 Class     Images  Instances      Box(P          R      mAP50  mAP50-95): 100%|██████████| 1/1 [00:01<00:00,  1.42s/it]"
     ]
    },
    {
     "name": "stdout",
     "output_type": "stream",
     "text": [
      "                   all          3          3      0.702          1       0.83       0.83\n"
     ]
    },
    {
     "name": "stderr",
     "output_type": "stream",
     "text": [
      "\n"
     ]
    },
    {
     "name": "stdout",
     "output_type": "stream",
     "text": [
      "\n",
      "50 epochs completed in 0.508 hours.\n",
      "Optimizer stripped from c:\\Users\\ansal\\source\\repos\\anomaly-detection\\runs\\detect\\train3\\weights\\last.pt, 22.5MB\n",
      "Optimizer stripped from c:\\Users\\ansal\\source\\repos\\anomaly-detection\\runs\\detect\\train3\\weights\\best.pt, 22.5MB\n",
      "\n",
      "Validating c:\\Users\\ansal\\source\\repos\\anomaly-detection\\runs\\detect\\train3\\weights\\best.pt...\n",
      "Ultralytics 8.3.43  Python-3.11.9 torch-2.5.1+cpu CPU (12th Gen Intel Core(TM) i7-1255U)\n",
      "Model summary (fused): 168 layers, 11,125,971 parameters, 0 gradients, 28.4 GFLOPs\n"
     ]
    },
    {
     "name": "stderr",
     "output_type": "stream",
     "text": [
      "                 Class     Images  Instances      Box(P          R      mAP50  mAP50-95): 100%|██████████| 1/1 [00:01<00:00,  1.12s/it]\n"
     ]
    },
    {
     "name": "stdout",
     "output_type": "stream",
     "text": [
      "                   all          3          3      0.483          1      0.913      0.871\n",
      "Speed: 3.7ms preprocess, 324.3ms inference, 0.0ms loss, 8.7ms postprocess per image\n",
      "Results saved to \u001b[1mc:\\Users\\ansal\\source\\repos\\anomaly-detection\\runs\\detect\\train3\u001b[0m\n",
      "Model trained and saved at models/print_area_detector.pt\n"
     ]
    }
   ],
   "source": [
    "from src.detection.train_yolo import train_yolo\n",
    "\n",
    "train_yolo(\"data/data.yaml\", \"models/print_area_detector.pt\", epochs=50)\n"
   ]
  },
  {
   "cell_type": "code",
   "execution_count": 1,
   "metadata": {},
   "outputs": [
    {
     "name": "stdout",
     "output_type": "stream",
     "text": [
      "\n",
      "image 1/1 c:\\Users\\ansal\\source\\repos\\anomaly-detection\\data\\frames\\frame_0.jpg: 384x640 3 prints, 247.3ms\n",
      "Speed: 8.3ms preprocess, 247.3ms inference, 20.0ms postprocess per image at shape (1, 3, 384, 640)\n",
      "\n",
      "image 1/1 c:\\Users\\ansal\\source\\repos\\anomaly-detection\\data\\frames\\frame_1015.jpg: 384x640 2 prints, 153.0ms\n",
      "Speed: 2.0ms preprocess, 153.0ms inference, 0.0ms postprocess per image at shape (1, 3, 384, 640)\n",
      "\n",
      "image 1/1 c:\\Users\\ansal\\source\\repos\\anomaly-detection\\data\\frames\\frame_1044.jpg: 384x640 3 prints, 150.2ms\n",
      "Speed: 2.0ms preprocess, 150.2ms inference, 1.1ms postprocess per image at shape (1, 3, 384, 640)\n",
      "\n",
      "image 1/1 c:\\Users\\ansal\\source\\repos\\anomaly-detection\\data\\frames\\frame_1073.jpg: 384x640 2 prints, 151.2ms\n",
      "Speed: 1.0ms preprocess, 151.2ms inference, 1.0ms postprocess per image at shape (1, 3, 384, 640)\n",
      "\n",
      "image 1/1 c:\\Users\\ansal\\source\\repos\\anomaly-detection\\data\\frames\\frame_1102.jpg: 384x640 2 prints, 162.8ms\n",
      "Speed: 2.0ms preprocess, 162.8ms inference, 1.3ms postprocess per image at shape (1, 3, 384, 640)\n",
      "\n",
      "image 1/1 c:\\Users\\ansal\\source\\repos\\anomaly-detection\\data\\frames\\frame_1131.jpg: 384x640 2 prints, 153.9ms\n",
      "Speed: 2.0ms preprocess, 153.9ms inference, 0.0ms postprocess per image at shape (1, 3, 384, 640)\n",
      "\n",
      "image 1/1 c:\\Users\\ansal\\source\\repos\\anomaly-detection\\data\\frames\\frame_116.jpg: 384x640 5 prints, 189.3ms\n",
      "Speed: 2.0ms preprocess, 189.3ms inference, 1.0ms postprocess per image at shape (1, 3, 384, 640)\n",
      "\n",
      "image 1/1 c:\\Users\\ansal\\source\\repos\\anomaly-detection\\data\\frames\\frame_1160.jpg: 384x640 3 prints, 162.0ms\n",
      "Speed: 3.0ms preprocess, 162.0ms inference, 1.0ms postprocess per image at shape (1, 3, 384, 640)\n",
      "\n",
      "image 1/1 c:\\Users\\ansal\\source\\repos\\anomaly-detection\\data\\frames\\frame_1189.jpg: 384x640 5 prints, 165.4ms\n",
      "Speed: 2.0ms preprocess, 165.4ms inference, 0.7ms postprocess per image at shape (1, 3, 384, 640)\n",
      "\n",
      "image 1/1 c:\\Users\\ansal\\source\\repos\\anomaly-detection\\data\\frames\\frame_1218.jpg: 384x640 2 prints, 160.2ms\n",
      "Speed: 2.0ms preprocess, 160.2ms inference, 1.0ms postprocess per image at shape (1, 3, 384, 640)\n",
      "\n",
      "image 1/1 c:\\Users\\ansal\\source\\repos\\anomaly-detection\\data\\frames\\frame_1247.jpg: 384x640 3 prints, 168.9ms\n",
      "Speed: 1.9ms preprocess, 168.9ms inference, 1.0ms postprocess per image at shape (1, 3, 384, 640)\n",
      "\n",
      "image 1/1 c:\\Users\\ansal\\source\\repos\\anomaly-detection\\data\\frames\\frame_1276.jpg: 384x640 2 prints, 151.1ms\n",
      "Speed: 2.0ms preprocess, 151.1ms inference, 1.1ms postprocess per image at shape (1, 3, 384, 640)\n",
      "\n",
      "image 1/1 c:\\Users\\ansal\\source\\repos\\anomaly-detection\\data\\frames\\frame_1305.jpg: 384x640 3 prints, 171.4ms\n",
      "Speed: 2.0ms preprocess, 171.4ms inference, 1.0ms postprocess per image at shape (1, 3, 384, 640)\n",
      "\n",
      "image 1/1 c:\\Users\\ansal\\source\\repos\\anomaly-detection\\data\\frames\\frame_145.jpg: 384x640 3 prints, 196.1ms\n",
      "Speed: 2.0ms preprocess, 196.1ms inference, 0.0ms postprocess per image at shape (1, 3, 384, 640)\n",
      "\n",
      "image 1/1 c:\\Users\\ansal\\source\\repos\\anomaly-detection\\data\\frames\\frame_174.jpg: 384x640 4 prints, 180.7ms\n",
      "Speed: 2.0ms preprocess, 180.7ms inference, 0.0ms postprocess per image at shape (1, 3, 384, 640)\n",
      "\n",
      "image 1/1 c:\\Users\\ansal\\source\\repos\\anomaly-detection\\data\\frames\\frame_203.jpg: 384x640 2 prints, 175.4ms\n",
      "Speed: 2.0ms preprocess, 175.4ms inference, 1.0ms postprocess per image at shape (1, 3, 384, 640)\n",
      "\n",
      "image 1/1 c:\\Users\\ansal\\source\\repos\\anomaly-detection\\data\\frames\\frame_232.jpg: 384x640 3 prints, 160.1ms\n",
      "Speed: 2.0ms preprocess, 160.1ms inference, 1.2ms postprocess per image at shape (1, 3, 384, 640)\n",
      "\n",
      "image 1/1 c:\\Users\\ansal\\source\\repos\\anomaly-detection\\data\\frames\\frame_261.jpg: 384x640 3 prints, 164.6ms\n",
      "Speed: 1.9ms preprocess, 164.6ms inference, 1.0ms postprocess per image at shape (1, 3, 384, 640)\n",
      "\n",
      "image 1/1 c:\\Users\\ansal\\source\\repos\\anomaly-detection\\data\\frames\\frame_29.jpg: 384x640 3 prints, 152.1ms\n",
      "Speed: 2.0ms preprocess, 152.1ms inference, 1.0ms postprocess per image at shape (1, 3, 384, 640)\n",
      "\n",
      "image 1/1 c:\\Users\\ansal\\source\\repos\\anomaly-detection\\data\\frames\\frame_290.jpg: 384x640 3 prints, 201.9ms\n",
      "Speed: 2.0ms preprocess, 201.9ms inference, 2.0ms postprocess per image at shape (1, 3, 384, 640)\n",
      "\n",
      "image 1/1 c:\\Users\\ansal\\source\\repos\\anomaly-detection\\data\\frames\\frame_319.jpg: 384x640 3 prints, 202.6ms\n",
      "Speed: 2.0ms preprocess, 202.6ms inference, 1.0ms postprocess per image at shape (1, 3, 384, 640)\n",
      "\n",
      "image 1/1 c:\\Users\\ansal\\source\\repos\\anomaly-detection\\data\\frames\\frame_348.jpg: 384x640 2 prints, 162.8ms\n",
      "Speed: 2.0ms preprocess, 162.8ms inference, 1.0ms postprocess per image at shape (1, 3, 384, 640)\n",
      "\n",
      "image 1/1 c:\\Users\\ansal\\source\\repos\\anomaly-detection\\data\\frames\\frame_377.jpg: 384x640 3 prints, 153.5ms\n",
      "Speed: 3.0ms preprocess, 153.5ms inference, 1.0ms postprocess per image at shape (1, 3, 384, 640)\n",
      "\n",
      "image 1/1 c:\\Users\\ansal\\source\\repos\\anomaly-detection\\data\\frames\\frame_406.jpg: 384x640 3 prints, 171.0ms\n",
      "Speed: 2.0ms preprocess, 171.0ms inference, 1.0ms postprocess per image at shape (1, 3, 384, 640)\n",
      "\n",
      "image 1/1 c:\\Users\\ansal\\source\\repos\\anomaly-detection\\data\\frames\\frame_435.jpg: 384x640 4 prints, 190.8ms\n",
      "Speed: 3.5ms preprocess, 190.8ms inference, 1.0ms postprocess per image at shape (1, 3, 384, 640)\n",
      "\n",
      "image 1/1 c:\\Users\\ansal\\source\\repos\\anomaly-detection\\data\\frames\\frame_464.jpg: 384x640 2 prints, 186.2ms\n",
      "Speed: 2.0ms preprocess, 186.2ms inference, 1.0ms postprocess per image at shape (1, 3, 384, 640)\n",
      "\n",
      "image 1/1 c:\\Users\\ansal\\source\\repos\\anomaly-detection\\data\\frames\\frame_493.jpg: 384x640 3 prints, 142.6ms\n",
      "Speed: 3.0ms preprocess, 142.6ms inference, 1.0ms postprocess per image at shape (1, 3, 384, 640)\n",
      "\n",
      "image 1/1 c:\\Users\\ansal\\source\\repos\\anomaly-detection\\data\\frames\\frame_522.jpg: 384x640 4 prints, 135.9ms\n",
      "Speed: 1.0ms preprocess, 135.9ms inference, 1.0ms postprocess per image at shape (1, 3, 384, 640)\n",
      "\n",
      "image 1/1 c:\\Users\\ansal\\source\\repos\\anomaly-detection\\data\\frames\\frame_551.jpg: 384x640 3 prints, 137.7ms\n",
      "Speed: 2.0ms preprocess, 137.7ms inference, 1.0ms postprocess per image at shape (1, 3, 384, 640)\n",
      "\n",
      "image 1/1 c:\\Users\\ansal\\source\\repos\\anomaly-detection\\data\\frames\\frame_58.jpg: 384x640 3 prints, 161.3ms\n",
      "Speed: 1.9ms preprocess, 161.3ms inference, 1.0ms postprocess per image at shape (1, 3, 384, 640)\n",
      "\n",
      "image 1/1 c:\\Users\\ansal\\source\\repos\\anomaly-detection\\data\\frames\\frame_580.jpg: 384x640 3 prints, 144.2ms\n",
      "Speed: 3.0ms preprocess, 144.2ms inference, 0.0ms postprocess per image at shape (1, 3, 384, 640)\n",
      "\n",
      "image 1/1 c:\\Users\\ansal\\source\\repos\\anomaly-detection\\data\\frames\\frame_609.jpg: 384x640 3 prints, 181.2ms\n",
      "Speed: 2.0ms preprocess, 181.2ms inference, 1.0ms postprocess per image at shape (1, 3, 384, 640)\n",
      "\n",
      "image 1/1 c:\\Users\\ansal\\source\\repos\\anomaly-detection\\data\\frames\\frame_638.jpg: 384x640 3 prints, 167.3ms\n",
      "Speed: 3.0ms preprocess, 167.3ms inference, 0.0ms postprocess per image at shape (1, 3, 384, 640)\n",
      "\n",
      "image 1/1 c:\\Users\\ansal\\source\\repos\\anomaly-detection\\data\\frames\\frame_667.jpg: 384x640 3 prints, 172.0ms\n",
      "Speed: 2.0ms preprocess, 172.0ms inference, 1.0ms postprocess per image at shape (1, 3, 384, 640)\n",
      "\n",
      "image 1/1 c:\\Users\\ansal\\source\\repos\\anomaly-detection\\data\\frames\\frame_696.jpg: 384x640 3 prints, 181.3ms\n",
      "Speed: 2.0ms preprocess, 181.3ms inference, 0.0ms postprocess per image at shape (1, 3, 384, 640)\n",
      "\n",
      "image 1/1 c:\\Users\\ansal\\source\\repos\\anomaly-detection\\data\\frames\\frame_725.jpg: 384x640 3 prints, 148.1ms\n",
      "Speed: 1.9ms preprocess, 148.1ms inference, 1.0ms postprocess per image at shape (1, 3, 384, 640)\n",
      "\n",
      "image 1/1 c:\\Users\\ansal\\source\\repos\\anomaly-detection\\data\\frames\\frame_754.jpg: 384x640 2 prints, 172.1ms\n",
      "Speed: 3.4ms preprocess, 172.1ms inference, 1.0ms postprocess per image at shape (1, 3, 384, 640)\n",
      "\n",
      "image 1/1 c:\\Users\\ansal\\source\\repos\\anomaly-detection\\data\\frames\\frame_783.jpg: 384x640 2 prints, 180.5ms\n",
      "Speed: 1.0ms preprocess, 180.5ms inference, 1.1ms postprocess per image at shape (1, 3, 384, 640)\n",
      "\n",
      "image 1/1 c:\\Users\\ansal\\source\\repos\\anomaly-detection\\data\\frames\\frame_812.jpg: 384x640 2 prints, 218.6ms\n",
      "Speed: 3.0ms preprocess, 218.6ms inference, 1.0ms postprocess per image at shape (1, 3, 384, 640)\n",
      "\n",
      "image 1/1 c:\\Users\\ansal\\source\\repos\\anomaly-detection\\data\\frames\\frame_841.jpg: 384x640 2 prints, 177.8ms\n",
      "Speed: 1.0ms preprocess, 177.8ms inference, 1.0ms postprocess per image at shape (1, 3, 384, 640)\n",
      "\n",
      "image 1/1 c:\\Users\\ansal\\source\\repos\\anomaly-detection\\data\\frames\\frame_87.jpg: 384x640 2 prints, 182.7ms\n",
      "Speed: 2.0ms preprocess, 182.7ms inference, 1.0ms postprocess per image at shape (1, 3, 384, 640)\n",
      "\n",
      "image 1/1 c:\\Users\\ansal\\source\\repos\\anomaly-detection\\data\\frames\\frame_870.jpg: 384x640 5 prints, 197.0ms\n",
      "Speed: 2.1ms preprocess, 197.0ms inference, 1.0ms postprocess per image at shape (1, 3, 384, 640)\n",
      "\n",
      "image 1/1 c:\\Users\\ansal\\source\\repos\\anomaly-detection\\data\\frames\\frame_899.jpg: 384x640 2 prints, 159.1ms\n",
      "Speed: 2.0ms preprocess, 159.1ms inference, 1.0ms postprocess per image at shape (1, 3, 384, 640)\n",
      "\n",
      "image 1/1 c:\\Users\\ansal\\source\\repos\\anomaly-detection\\data\\frames\\frame_928.jpg: 384x640 3 prints, 165.9ms\n",
      "Speed: 2.0ms preprocess, 165.9ms inference, 1.0ms postprocess per image at shape (1, 3, 384, 640)\n",
      "\n",
      "image 1/1 c:\\Users\\ansal\\source\\repos\\anomaly-detection\\data\\frames\\frame_957.jpg: 384x640 4 prints, 142.1ms\n",
      "Speed: 2.0ms preprocess, 142.1ms inference, 1.0ms postprocess per image at shape (1, 3, 384, 640)\n",
      "\n",
      "image 1/1 c:\\Users\\ansal\\source\\repos\\anomaly-detection\\data\\frames\\frame_986.jpg: 384x640 3 prints, 175.3ms\n",
      "Speed: 2.9ms preprocess, 175.3ms inference, 0.0ms postprocess per image at shape (1, 3, 384, 640)\n"
     ]
    }
   ],
   "source": [
    "from src.detection.detect_objects import detect_print_area\n",
    "\n",
    "detected_frames = detect_print_area(\n",
    "    model_path=\"models/print_area_detector.pt\",\n",
    "    frames_directory=\"data/frames\",\n",
    "    output_directory=\"data/detected_frames\"\n",
    ")"
   ]
  },
  {
   "cell_type": "code",
   "execution_count": 2,
   "metadata": {},
   "outputs": [
    {
     "name": "stdout",
     "output_type": "stream",
     "text": [
      "\n",
      "image 1/1 c:\\Users\\ansal\\source\\repos\\anomaly-detection\\data\\frames\\frame_0.jpg: 384x640 3 prints, 564.6ms\n",
      "Speed: 12.0ms preprocess, 564.6ms inference, 3.0ms postprocess per image at shape (1, 3, 384, 640)\n",
      "\n",
      "image 1/1 c:\\Users\\ansal\\source\\repos\\anomaly-detection\\data\\frames\\frame_1015.jpg: 384x640 2 prints, 629.8ms\n",
      "Speed: 8.4ms preprocess, 629.8ms inference, 3.0ms postprocess per image at shape (1, 3, 384, 640)\n",
      "\n",
      "image 1/1 c:\\Users\\ansal\\source\\repos\\anomaly-detection\\data\\frames\\frame_1044.jpg: 384x640 3 prints, 551.2ms\n",
      "Speed: 5.9ms preprocess, 551.2ms inference, 1.0ms postprocess per image at shape (1, 3, 384, 640)\n",
      "\n",
      "image 1/1 c:\\Users\\ansal\\source\\repos\\anomaly-detection\\data\\frames\\frame_1073.jpg: 384x640 2 prints, 166.1ms\n",
      "Speed: 2.0ms preprocess, 166.1ms inference, 0.0ms postprocess per image at shape (1, 3, 384, 640)\n",
      "\n",
      "image 1/1 c:\\Users\\ansal\\source\\repos\\anomaly-detection\\data\\frames\\frame_1102.jpg: 384x640 2 prints, 178.8ms\n",
      "Speed: 2.0ms preprocess, 178.8ms inference, 0.0ms postprocess per image at shape (1, 3, 384, 640)\n",
      "\n",
      "image 1/1 c:\\Users\\ansal\\source\\repos\\anomaly-detection\\data\\frames\\frame_1131.jpg: 384x640 2 prints, 159.8ms\n",
      "Speed: 2.0ms preprocess, 159.8ms inference, 0.0ms postprocess per image at shape (1, 3, 384, 640)\n",
      "\n",
      "image 1/1 c:\\Users\\ansal\\source\\repos\\anomaly-detection\\data\\frames\\frame_116.jpg: 384x640 5 prints, 167.2ms\n",
      "Speed: 1.5ms preprocess, 167.2ms inference, 0.0ms postprocess per image at shape (1, 3, 384, 640)\n",
      "\n",
      "image 1/1 c:\\Users\\ansal\\source\\repos\\anomaly-detection\\data\\frames\\frame_1160.jpg: 384x640 3 prints, 164.7ms\n",
      "Speed: 2.0ms preprocess, 164.7ms inference, 1.0ms postprocess per image at shape (1, 3, 384, 640)\n",
      "\n",
      "image 1/1 c:\\Users\\ansal\\source\\repos\\anomaly-detection\\data\\frames\\frame_1189.jpg: 384x640 5 prints, 152.8ms\n",
      "Speed: 1.0ms preprocess, 152.8ms inference, 1.0ms postprocess per image at shape (1, 3, 384, 640)\n",
      "\n",
      "image 1/1 c:\\Users\\ansal\\source\\repos\\anomaly-detection\\data\\frames\\frame_1218.jpg: 384x640 2 prints, 167.5ms\n",
      "Speed: 1.0ms preprocess, 167.5ms inference, 1.0ms postprocess per image at shape (1, 3, 384, 640)\n",
      "\n",
      "image 1/1 c:\\Users\\ansal\\source\\repos\\anomaly-detection\\data\\frames\\frame_1247.jpg: 384x640 3 prints, 130.0ms\n",
      "Speed: 2.0ms preprocess, 130.0ms inference, 1.0ms postprocess per image at shape (1, 3, 384, 640)\n",
      "\n",
      "image 1/1 c:\\Users\\ansal\\source\\repos\\anomaly-detection\\data\\frames\\frame_1276.jpg: 384x640 2 prints, 131.6ms\n",
      "Speed: 1.1ms preprocess, 131.6ms inference, 1.0ms postprocess per image at shape (1, 3, 384, 640)\n",
      "\n",
      "image 1/1 c:\\Users\\ansal\\source\\repos\\anomaly-detection\\data\\frames\\frame_1305.jpg: 384x640 3 prints, 165.3ms\n",
      "Speed: 2.0ms preprocess, 165.3ms inference, 1.0ms postprocess per image at shape (1, 3, 384, 640)\n",
      "\n",
      "image 1/1 c:\\Users\\ansal\\source\\repos\\anomaly-detection\\data\\frames\\frame_145.jpg: 384x640 3 prints, 134.6ms\n",
      "Speed: 2.0ms preprocess, 134.6ms inference, 1.0ms postprocess per image at shape (1, 3, 384, 640)\n",
      "\n",
      "image 1/1 c:\\Users\\ansal\\source\\repos\\anomaly-detection\\data\\frames\\frame_174.jpg: 384x640 4 prints, 135.2ms\n",
      "Speed: 2.0ms preprocess, 135.2ms inference, 1.0ms postprocess per image at shape (1, 3, 384, 640)\n",
      "\n",
      "image 1/1 c:\\Users\\ansal\\source\\repos\\anomaly-detection\\data\\frames\\frame_203.jpg: 384x640 2 prints, 174.1ms\n",
      "Speed: 2.0ms preprocess, 174.1ms inference, 1.0ms postprocess per image at shape (1, 3, 384, 640)\n",
      "\n",
      "image 1/1 c:\\Users\\ansal\\source\\repos\\anomaly-detection\\data\\frames\\frame_232.jpg: 384x640 3 prints, 148.7ms\n",
      "Speed: 1.0ms preprocess, 148.7ms inference, 1.0ms postprocess per image at shape (1, 3, 384, 640)\n",
      "\n",
      "image 1/1 c:\\Users\\ansal\\source\\repos\\anomaly-detection\\data\\frames\\frame_261.jpg: 384x640 3 prints, 155.8ms\n",
      "Speed: 1.0ms preprocess, 155.8ms inference, 0.0ms postprocess per image at shape (1, 3, 384, 640)\n",
      "\n",
      "image 1/1 c:\\Users\\ansal\\source\\repos\\anomaly-detection\\data\\frames\\frame_29.jpg: 384x640 3 prints, 143.1ms\n",
      "Speed: 2.0ms preprocess, 143.1ms inference, 1.0ms postprocess per image at shape (1, 3, 384, 640)\n",
      "\n",
      "image 1/1 c:\\Users\\ansal\\source\\repos\\anomaly-detection\\data\\frames\\frame_290.jpg: 384x640 3 prints, 193.2ms\n",
      "Speed: 2.1ms preprocess, 193.2ms inference, 1.0ms postprocess per image at shape (1, 3, 384, 640)\n",
      "\n",
      "image 1/1 c:\\Users\\ansal\\source\\repos\\anomaly-detection\\data\\frames\\frame_319.jpg: 384x640 3 prints, 216.7ms\n",
      "Speed: 2.0ms preprocess, 216.7ms inference, 1.1ms postprocess per image at shape (1, 3, 384, 640)\n",
      "\n",
      "image 1/1 c:\\Users\\ansal\\source\\repos\\anomaly-detection\\data\\frames\\frame_348.jpg: 384x640 2 prints, 199.4ms\n",
      "Speed: 2.0ms preprocess, 199.4ms inference, 1.0ms postprocess per image at shape (1, 3, 384, 640)\n",
      "\n",
      "image 1/1 c:\\Users\\ansal\\source\\repos\\anomaly-detection\\data\\frames\\frame_377.jpg: 384x640 3 prints, 202.0ms\n",
      "Speed: 2.0ms preprocess, 202.0ms inference, 2.0ms postprocess per image at shape (1, 3, 384, 640)\n",
      "\n",
      "image 1/1 c:\\Users\\ansal\\source\\repos\\anomaly-detection\\data\\frames\\frame_406.jpg: 384x640 3 prints, 153.3ms\n",
      "Speed: 2.0ms preprocess, 153.3ms inference, 1.0ms postprocess per image at shape (1, 3, 384, 640)\n",
      "\n",
      "image 1/1 c:\\Users\\ansal\\source\\repos\\anomaly-detection\\data\\frames\\frame_435.jpg: 384x640 4 prints, 162.2ms\n",
      "Speed: 3.0ms preprocess, 162.2ms inference, 1.0ms postprocess per image at shape (1, 3, 384, 640)\n",
      "\n",
      "image 1/1 c:\\Users\\ansal\\source\\repos\\anomaly-detection\\data\\frames\\frame_464.jpg: 384x640 2 prints, 150.0ms\n",
      "Speed: 2.1ms preprocess, 150.0ms inference, 1.0ms postprocess per image at shape (1, 3, 384, 640)\n",
      "\n",
      "image 1/1 c:\\Users\\ansal\\source\\repos\\anomaly-detection\\data\\frames\\frame_493.jpg: 384x640 3 prints, 130.1ms\n",
      "Speed: 2.0ms preprocess, 130.1ms inference, 1.0ms postprocess per image at shape (1, 3, 384, 640)\n",
      "\n",
      "image 1/1 c:\\Users\\ansal\\source\\repos\\anomaly-detection\\data\\frames\\frame_522.jpg: 384x640 4 prints, 132.0ms\n",
      "Speed: 1.9ms preprocess, 132.0ms inference, 1.0ms postprocess per image at shape (1, 3, 384, 640)\n",
      "\n",
      "image 1/1 c:\\Users\\ansal\\source\\repos\\anomaly-detection\\data\\frames\\frame_551.jpg: 384x640 3 prints, 131.8ms\n",
      "Speed: 1.0ms preprocess, 131.8ms inference, 1.5ms postprocess per image at shape (1, 3, 384, 640)\n",
      "\n",
      "image 1/1 c:\\Users\\ansal\\source\\repos\\anomaly-detection\\data\\frames\\frame_58.jpg: 384x640 3 prints, 170.4ms\n",
      "Speed: 2.0ms preprocess, 170.4ms inference, 1.1ms postprocess per image at shape (1, 3, 384, 640)\n",
      "\n",
      "image 1/1 c:\\Users\\ansal\\source\\repos\\anomaly-detection\\data\\frames\\frame_580.jpg: 384x640 3 prints, 159.4ms\n",
      "Speed: 2.0ms preprocess, 159.4ms inference, 1.1ms postprocess per image at shape (1, 3, 384, 640)\n",
      "\n",
      "image 1/1 c:\\Users\\ansal\\source\\repos\\anomaly-detection\\data\\frames\\frame_609.jpg: 384x640 3 prints, 133.5ms\n",
      "Speed: 2.4ms preprocess, 133.5ms inference, 2.0ms postprocess per image at shape (1, 3, 384, 640)\n",
      "\n",
      "image 1/1 c:\\Users\\ansal\\source\\repos\\anomaly-detection\\data\\frames\\frame_638.jpg: 384x640 3 prints, 154.6ms\n",
      "Speed: 1.0ms preprocess, 154.6ms inference, 0.0ms postprocess per image at shape (1, 3, 384, 640)\n",
      "\n",
      "image 1/1 c:\\Users\\ansal\\source\\repos\\anomaly-detection\\data\\frames\\frame_667.jpg: 384x640 3 prints, 160.6ms\n",
      "Speed: 4.0ms preprocess, 160.6ms inference, 1.0ms postprocess per image at shape (1, 3, 384, 640)\n",
      "\n",
      "image 1/1 c:\\Users\\ansal\\source\\repos\\anomaly-detection\\data\\frames\\frame_696.jpg: 384x640 3 prints, 190.1ms\n",
      "Speed: 2.0ms preprocess, 190.1ms inference, 1.0ms postprocess per image at shape (1, 3, 384, 640)\n",
      "\n",
      "image 1/1 c:\\Users\\ansal\\source\\repos\\anomaly-detection\\data\\frames\\frame_725.jpg: 384x640 3 prints, 158.5ms\n",
      "Speed: 1.0ms preprocess, 158.5ms inference, 1.0ms postprocess per image at shape (1, 3, 384, 640)\n",
      "\n",
      "image 1/1 c:\\Users\\ansal\\source\\repos\\anomaly-detection\\data\\frames\\frame_754.jpg: 384x640 2 prints, 150.3ms\n",
      "Speed: 2.0ms preprocess, 150.3ms inference, 1.0ms postprocess per image at shape (1, 3, 384, 640)\n",
      "\n",
      "image 1/1 c:\\Users\\ansal\\source\\repos\\anomaly-detection\\data\\frames\\frame_783.jpg: 384x640 2 prints, 137.7ms\n",
      "Speed: 1.9ms preprocess, 137.7ms inference, 1.1ms postprocess per image at shape (1, 3, 384, 640)\n",
      "\n",
      "image 1/1 c:\\Users\\ansal\\source\\repos\\anomaly-detection\\data\\frames\\frame_812.jpg: 384x640 2 prints, 173.3ms\n",
      "Speed: 5.0ms preprocess, 173.3ms inference, 0.0ms postprocess per image at shape (1, 3, 384, 640)\n",
      "\n",
      "image 1/1 c:\\Users\\ansal\\source\\repos\\anomaly-detection\\data\\frames\\frame_841.jpg: 384x640 2 prints, 154.2ms\n",
      "Speed: 1.5ms preprocess, 154.2ms inference, 1.0ms postprocess per image at shape (1, 3, 384, 640)\n",
      "\n",
      "image 1/1 c:\\Users\\ansal\\source\\repos\\anomaly-detection\\data\\frames\\frame_87.jpg: 384x640 2 prints, 159.0ms\n",
      "Speed: 2.0ms preprocess, 159.0ms inference, 2.1ms postprocess per image at shape (1, 3, 384, 640)\n",
      "\n",
      "image 1/1 c:\\Users\\ansal\\source\\repos\\anomaly-detection\\data\\frames\\frame_870.jpg: 384x640 5 prints, 174.5ms\n",
      "Speed: 2.1ms preprocess, 174.5ms inference, 1.0ms postprocess per image at shape (1, 3, 384, 640)\n",
      "\n",
      "image 1/1 c:\\Users\\ansal\\source\\repos\\anomaly-detection\\data\\frames\\frame_899.jpg: 384x640 2 prints, 166.4ms\n",
      "Speed: 2.0ms preprocess, 166.4ms inference, 1.0ms postprocess per image at shape (1, 3, 384, 640)\n",
      "\n",
      "image 1/1 c:\\Users\\ansal\\source\\repos\\anomaly-detection\\data\\frames\\frame_928.jpg: 384x640 3 prints, 150.9ms\n",
      "Speed: 2.0ms preprocess, 150.9ms inference, 2.1ms postprocess per image at shape (1, 3, 384, 640)\n",
      "\n",
      "image 1/1 c:\\Users\\ansal\\source\\repos\\anomaly-detection\\data\\frames\\frame_957.jpg: 384x640 4 prints, 188.9ms\n",
      "Speed: 1.9ms preprocess, 188.9ms inference, 1.0ms postprocess per image at shape (1, 3, 384, 640)\n",
      "\n",
      "image 1/1 c:\\Users\\ansal\\source\\repos\\anomaly-detection\\data\\frames\\frame_986.jpg: 384x640 3 prints, 166.9ms\n",
      "Speed: 1.0ms preprocess, 166.9ms inference, 1.3ms postprocess per image at shape (1, 3, 384, 640)\n"
     ]
    }
   ],
   "source": [
    "from src.classification.crop_detected_area import crop_detected_area\n",
    "\n",
    "detected_frames = crop_detected_area(\n",
    "    model_path=\"models/print_area_detector.pt\",\n",
    "    frames_directory=\"data/frames\",\n",
    "    output_directory=\"data/cropped\"\n",
    ")"
   ]
  },
  {
   "cell_type": "code",
   "execution_count": 3,
   "metadata": {},
   "outputs": [
    {
     "name": "stdout",
     "output_type": "stream",
     "text": [
      "Epoch 1/50\n",
      "\u001b[1m3/3\u001b[0m \u001b[32m━━━━━━━━━━━━━━━━━━━━\u001b[0m\u001b[37m\u001b[0m \u001b[1m2s\u001b[0m 180ms/step - loss: 0.0503 - val_loss: 0.0432\n",
      "Epoch 2/50\n",
      "\u001b[1m3/3\u001b[0m \u001b[32m━━━━━━━━━━━━━━━━━━━━\u001b[0m\u001b[37m\u001b[0m \u001b[1m0s\u001b[0m 86ms/step - loss: 0.0418 - val_loss: 0.0346\n",
      "Epoch 3/50\n",
      "\u001b[1m3/3\u001b[0m \u001b[32m━━━━━━━━━━━━━━━━━━━━\u001b[0m\u001b[37m\u001b[0m \u001b[1m0s\u001b[0m 73ms/step - loss: 0.0352 - val_loss: 0.0338\n",
      "Epoch 4/50\n",
      "\u001b[1m3/3\u001b[0m \u001b[32m━━━━━━━━━━━━━━━━━━━━\u001b[0m\u001b[37m\u001b[0m \u001b[1m0s\u001b[0m 69ms/step - loss: 0.0343 - val_loss: 0.0312\n",
      "Epoch 5/50\n",
      "\u001b[1m3/3\u001b[0m \u001b[32m━━━━━━━━━━━━━━━━━━━━\u001b[0m\u001b[37m\u001b[0m \u001b[1m0s\u001b[0m 70ms/step - loss: 0.0319 - val_loss: 0.0306\n",
      "Epoch 6/50\n",
      "\u001b[1m3/3\u001b[0m \u001b[32m━━━━━━━━━━━━━━━━━━━━\u001b[0m\u001b[37m\u001b[0m \u001b[1m0s\u001b[0m 70ms/step - loss: 0.0311 - val_loss: 0.0288\n",
      "Epoch 7/50\n",
      "\u001b[1m3/3\u001b[0m \u001b[32m━━━━━━━━━━━━━━━━━━━━\u001b[0m\u001b[37m\u001b[0m \u001b[1m0s\u001b[0m 74ms/step - loss: 0.0290 - val_loss: 0.0269\n",
      "Epoch 8/50\n",
      "\u001b[1m3/3\u001b[0m \u001b[32m━━━━━━━━━━━━━━━━━━━━\u001b[0m\u001b[37m\u001b[0m \u001b[1m0s\u001b[0m 71ms/step - loss: 0.0270 - val_loss: 0.0244\n",
      "Epoch 9/50\n",
      "\u001b[1m3/3\u001b[0m \u001b[32m━━━━━━━━━━━━━━━━━━━━\u001b[0m\u001b[37m\u001b[0m \u001b[1m0s\u001b[0m 76ms/step - loss: 0.0246 - val_loss: 0.0225\n",
      "Epoch 10/50\n",
      "\u001b[1m3/3\u001b[0m \u001b[32m━━━━━━━━━━━━━━━━━━━━\u001b[0m\u001b[37m\u001b[0m \u001b[1m0s\u001b[0m 71ms/step - loss: 0.0227 - val_loss: 0.0203\n",
      "Epoch 11/50\n",
      "\u001b[1m3/3\u001b[0m \u001b[32m━━━━━━━━━━━━━━━━━━━━\u001b[0m\u001b[37m\u001b[0m \u001b[1m0s\u001b[0m 74ms/step - loss: 0.0208 - val_loss: 0.0184\n",
      "Epoch 12/50\n",
      "\u001b[1m3/3\u001b[0m \u001b[32m━━━━━━━━━━━━━━━━━━━━\u001b[0m\u001b[37m\u001b[0m \u001b[1m0s\u001b[0m 73ms/step - loss: 0.0191 - val_loss: 0.0174\n",
      "Epoch 13/50\n",
      "\u001b[1m3/3\u001b[0m \u001b[32m━━━━━━━━━━━━━━━━━━━━\u001b[0m\u001b[37m\u001b[0m \u001b[1m0s\u001b[0m 74ms/step - loss: 0.0179 - val_loss: 0.0167\n",
      "Epoch 14/50\n",
      "\u001b[1m3/3\u001b[0m \u001b[32m━━━━━━━━━━━━━━━━━━━━\u001b[0m\u001b[37m\u001b[0m \u001b[1m0s\u001b[0m 72ms/step - loss: 0.0173 - val_loss: 0.0162\n",
      "Epoch 15/50\n",
      "\u001b[1m3/3\u001b[0m \u001b[32m━━━━━━━━━━━━━━━━━━━━\u001b[0m\u001b[37m\u001b[0m \u001b[1m0s\u001b[0m 82ms/step - loss: 0.0167 - val_loss: 0.0153\n",
      "Epoch 16/50\n",
      "\u001b[1m3/3\u001b[0m \u001b[32m━━━━━━━━━━━━━━━━━━━━\u001b[0m\u001b[37m\u001b[0m \u001b[1m0s\u001b[0m 84ms/step - loss: 0.0161 - val_loss: 0.0148\n",
      "Epoch 17/50\n",
      "\u001b[1m3/3\u001b[0m \u001b[32m━━━━━━━━━━━━━━━━━━━━\u001b[0m\u001b[37m\u001b[0m \u001b[1m0s\u001b[0m 71ms/step - loss: 0.0152 - val_loss: 0.0148\n",
      "Epoch 18/50\n",
      "\u001b[1m3/3\u001b[0m \u001b[32m━━━━━━━━━━━━━━━━━━━━\u001b[0m\u001b[37m\u001b[0m \u001b[1m0s\u001b[0m 79ms/step - loss: 0.0151 - val_loss: 0.0138\n",
      "Epoch 19/50\n",
      "\u001b[1m3/3\u001b[0m \u001b[32m━━━━━━━━━━━━━━━━━━━━\u001b[0m\u001b[37m\u001b[0m \u001b[1m0s\u001b[0m 72ms/step - loss: 0.0144 - val_loss: 0.0137\n",
      "Epoch 20/50\n",
      "\u001b[1m3/3\u001b[0m \u001b[32m━━━━━━━━━━━━━━━━━━━━\u001b[0m\u001b[37m\u001b[0m \u001b[1m0s\u001b[0m 70ms/step - loss: 0.0141 - val_loss: 0.0138\n",
      "Epoch 21/50\n",
      "\u001b[1m3/3\u001b[0m \u001b[32m━━━━━━━━━━━━━━━━━━━━\u001b[0m\u001b[37m\u001b[0m \u001b[1m0s\u001b[0m 72ms/step - loss: 0.0135 - val_loss: 0.0127\n",
      "Epoch 22/50\n",
      "\u001b[1m3/3\u001b[0m \u001b[32m━━━━━━━━━━━━━━━━━━━━\u001b[0m\u001b[37m\u001b[0m \u001b[1m0s\u001b[0m 73ms/step - loss: 0.0131 - val_loss: 0.0124\n",
      "Epoch 23/50\n",
      "\u001b[1m3/3\u001b[0m \u001b[32m━━━━━━━━━━━━━━━━━━━━\u001b[0m\u001b[37m\u001b[0m \u001b[1m0s\u001b[0m 69ms/step - loss: 0.0130 - val_loss: 0.0130\n",
      "Epoch 24/50\n",
      "\u001b[1m3/3\u001b[0m \u001b[32m━━━━━━━━━━━━━━━━━━━━\u001b[0m\u001b[37m\u001b[0m \u001b[1m0s\u001b[0m 70ms/step - loss: 0.0130 - val_loss: 0.0120\n",
      "Epoch 25/50\n",
      "\u001b[1m3/3\u001b[0m \u001b[32m━━━━━━━━━━━━━━━━━━━━\u001b[0m\u001b[37m\u001b[0m \u001b[1m0s\u001b[0m 73ms/step - loss: 0.0122 - val_loss: 0.0114\n",
      "Epoch 26/50\n",
      "\u001b[1m3/3\u001b[0m \u001b[32m━━━━━━━━━━━━━━━━━━━━\u001b[0m\u001b[37m\u001b[0m \u001b[1m0s\u001b[0m 73ms/step - loss: 0.0123 - val_loss: 0.0117\n",
      "Epoch 27/50\n",
      "\u001b[1m3/3\u001b[0m \u001b[32m━━━━━━━━━━━━━━━━━━━━\u001b[0m\u001b[37m\u001b[0m \u001b[1m0s\u001b[0m 71ms/step - loss: 0.0117 - val_loss: 0.0113\n",
      "Epoch 28/50\n",
      "\u001b[1m3/3\u001b[0m \u001b[32m━━━━━━━━━━━━━━━━━━━━\u001b[0m\u001b[37m\u001b[0m \u001b[1m0s\u001b[0m 73ms/step - loss: 0.0116 - val_loss: 0.0105\n",
      "Epoch 29/50\n",
      "\u001b[1m3/3\u001b[0m \u001b[32m━━━━━━━━━━━━━━━━━━━━\u001b[0m\u001b[37m\u001b[0m \u001b[1m0s\u001b[0m 72ms/step - loss: 0.0111 - val_loss: 0.0113\n",
      "Epoch 30/50\n",
      "\u001b[1m3/3\u001b[0m \u001b[32m━━━━━━━━━━━━━━━━━━━━\u001b[0m\u001b[37m\u001b[0m \u001b[1m0s\u001b[0m 74ms/step - loss: 0.0114 - val_loss: 0.0108\n",
      "Epoch 31/50\n",
      "\u001b[1m3/3\u001b[0m \u001b[32m━━━━━━━━━━━━━━━━━━━━\u001b[0m\u001b[37m\u001b[0m \u001b[1m0s\u001b[0m 72ms/step - loss: 0.0109 - val_loss: 0.0105\n",
      "Epoch 32/50\n",
      "\u001b[1m3/3\u001b[0m \u001b[32m━━━━━━━━━━━━━━━━━━━━\u001b[0m\u001b[37m\u001b[0m \u001b[1m0s\u001b[0m 76ms/step - loss: 0.0104 - val_loss: 0.0100\n",
      "Epoch 33/50\n",
      "\u001b[1m3/3\u001b[0m \u001b[32m━━━━━━━━━━━━━━━━━━━━\u001b[0m\u001b[37m\u001b[0m \u001b[1m0s\u001b[0m 71ms/step - loss: 0.0103 - val_loss: 0.0098\n",
      "Epoch 34/50\n",
      "\u001b[1m3/3\u001b[0m \u001b[32m━━━━━━━━━━━━━━━━━━━━\u001b[0m\u001b[37m\u001b[0m \u001b[1m0s\u001b[0m 73ms/step - loss: 0.0100 - val_loss: 0.0093\n",
      "Epoch 35/50\n",
      "\u001b[1m3/3\u001b[0m \u001b[32m━━━━━━━━━━━━━━━━━━━━\u001b[0m\u001b[37m\u001b[0m \u001b[1m0s\u001b[0m 70ms/step - loss: 0.0093 - val_loss: 0.0091\n",
      "Epoch 36/50\n",
      "\u001b[1m3/3\u001b[0m \u001b[32m━━━━━━━━━━━━━━━━━━━━\u001b[0m\u001b[37m\u001b[0m \u001b[1m0s\u001b[0m 70ms/step - loss: 0.0094 - val_loss: 0.0094\n",
      "Epoch 37/50\n",
      "\u001b[1m3/3\u001b[0m \u001b[32m━━━━━━━━━━━━━━━━━━━━\u001b[0m\u001b[37m\u001b[0m \u001b[1m0s\u001b[0m 73ms/step - loss: 0.0094 - val_loss: 0.0084\n",
      "Epoch 38/50\n",
      "\u001b[1m3/3\u001b[0m \u001b[32m━━━━━━━━━━━━━━━━━━━━\u001b[0m\u001b[37m\u001b[0m \u001b[1m0s\u001b[0m 71ms/step - loss: 0.0087 - val_loss: 0.0081\n",
      "Epoch 39/50\n",
      "\u001b[1m3/3\u001b[0m \u001b[32m━━━━━━━━━━━━━━━━━━━━\u001b[0m\u001b[37m\u001b[0m \u001b[1m0s\u001b[0m 72ms/step - loss: 0.0085 - val_loss: 0.0091\n",
      "Epoch 40/50\n",
      "\u001b[1m3/3\u001b[0m \u001b[32m━━━━━━━━━━━━━━━━━━━━\u001b[0m\u001b[37m\u001b[0m \u001b[1m0s\u001b[0m 71ms/step - loss: 0.0093 - val_loss: 0.0077\n",
      "Epoch 41/50\n",
      "\u001b[1m3/3\u001b[0m \u001b[32m━━━━━━━━━━━━━━━━━━━━\u001b[0m\u001b[37m\u001b[0m \u001b[1m0s\u001b[0m 73ms/step - loss: 0.0085 - val_loss: 0.0108\n",
      "Epoch 42/50\n",
      "\u001b[1m3/3\u001b[0m \u001b[32m━━━━━━━━━━━━━━━━━━━━\u001b[0m\u001b[37m\u001b[0m \u001b[1m0s\u001b[0m 71ms/step - loss: 0.0094 - val_loss: 0.0099\n",
      "Epoch 43/50\n",
      "\u001b[1m3/3\u001b[0m \u001b[32m━━━━━━━━━━━━━━━━━━━━\u001b[0m\u001b[37m\u001b[0m \u001b[1m0s\u001b[0m 72ms/step - loss: 0.0096 - val_loss: 0.0089\n",
      "Epoch 44/50\n",
      "\u001b[1m3/3\u001b[0m \u001b[32m━━━━━━━━━━━━━━━━━━━━\u001b[0m\u001b[37m\u001b[0m \u001b[1m0s\u001b[0m 71ms/step - loss: 0.0083 - val_loss: 0.0087\n",
      "Epoch 45/50\n",
      "\u001b[1m3/3\u001b[0m \u001b[32m━━━━━━━━━━━━━━━━━━━━\u001b[0m\u001b[37m\u001b[0m \u001b[1m0s\u001b[0m 72ms/step - loss: 0.0084 - val_loss: 0.0081\n",
      "Epoch 46/50\n",
      "\u001b[1m3/3\u001b[0m \u001b[32m━━━━━━━━━━━━━━━━━━━━\u001b[0m\u001b[37m\u001b[0m \u001b[1m0s\u001b[0m 75ms/step - loss: 0.0079 - val_loss: 0.0075\n",
      "Epoch 47/50\n",
      "\u001b[1m3/3\u001b[0m \u001b[32m━━━━━━━━━━━━━━━━━━━━\u001b[0m\u001b[37m\u001b[0m \u001b[1m0s\u001b[0m 72ms/step - loss: 0.0077 - val_loss: 0.0072\n",
      "Epoch 48/50\n",
      "\u001b[1m3/3\u001b[0m \u001b[32m━━━━━━━━━━━━━━━━━━━━\u001b[0m\u001b[37m\u001b[0m \u001b[1m0s\u001b[0m 72ms/step - loss: 0.0072 - val_loss: 0.0072\n",
      "Epoch 49/50\n",
      "\u001b[1m3/3\u001b[0m \u001b[32m━━━━━━━━━━━━━━━━━━━━\u001b[0m\u001b[37m\u001b[0m \u001b[1m0s\u001b[0m 72ms/step - loss: 0.0072 - val_loss: 0.0072\n",
      "Epoch 50/50\n",
      "\u001b[1m3/3\u001b[0m \u001b[32m━━━━━━━━━━━━━━━━━━━━\u001b[0m\u001b[37m\u001b[0m \u001b[1m0s\u001b[0m 70ms/step - loss: 0.0071 - val_loss: 0.0072\n"
     ]
    },
    {
     "name": "stderr",
     "output_type": "stream",
     "text": [
      "WARNING:absl:You are saving your model as an HDF5 file via `model.save()` or `keras.saving.save_model(model)`. This file format is considered legacy. We recommend using instead the native Keras format, e.g. `model.save('my_model.keras')` or `keras.saving.save_model(model, 'my_model.keras')`. \n"
     ]
    }
   ],
   "source": [
    "import os\n",
    "from src.classification.train_autoencoder import train_autoencoder\n",
    "\n",
    "cropped_directory = \"data/cropped\"\n",
    "\n",
    "cropped_correct_frames = [\n",
    "    os.path.join(cropped_directory, f)\n",
    "    for f in os.listdir(cropped_directory)\n",
    "    if f.endswith(\".jpg\")\n",
    "]\n",
    "\n",
    "model_path = \"models/autoencoder.h5\"\n",
    "\n",
    "input_shape = (128, 128, 3)\n",
    "\n",
    "train_autoencoder(\n",
    "    cropped_correct_frames=cropped_correct_frames,\n",
    "    model_path=model_path,\n",
    "    input_shape=input_shape\n",
    ")\n"
   ]
  },
  {
   "cell_type": "code",
   "execution_count": 1,
   "metadata": {},
   "outputs": [
    {
     "name": "stdout",
     "output_type": "stream",
     "text": [
      "\n",
      "image 1/1 c:\\Users\\ansal\\source\\repos\\anomaly-detection\\data\\test_images\\correct_image_0.jpg: 384x640 3 prints, 190.0ms\n",
      "Speed: 2.0ms preprocess, 190.0ms inference, 1.0ms postprocess per image at shape (1, 3, 384, 640)\n",
      "\n",
      "image 1/1 c:\\Users\\ansal\\source\\repos\\anomaly-detection\\data\\test_images\\correct_image_1.jpg: 384x640 3 prints, 169.2ms\n",
      "Speed: 2.0ms preprocess, 169.2ms inference, 1.0ms postprocess per image at shape (1, 3, 384, 640)\n",
      "\n",
      "image 1/1 c:\\Users\\ansal\\source\\repos\\anomaly-detection\\data\\test_images\\correct_image_2.jpg: 384x640 3 prints, 169.9ms\n",
      "Speed: 2.0ms preprocess, 169.9ms inference, 0.0ms postprocess per image at shape (1, 3, 384, 640)\n",
      "\n",
      "image 1/1 c:\\Users\\ansal\\source\\repos\\anomaly-detection\\data\\test_images\\error_image_0.jpg: 384x640 4 prints, 186.3ms\n",
      "Speed: 3.0ms preprocess, 186.3ms inference, 1.1ms postprocess per image at shape (1, 3, 384, 640)\n",
      "\n",
      "image 1/1 c:\\Users\\ansal\\source\\repos\\anomaly-detection\\data\\test_images\\error_image_1.jpg: 384x640 3 prints, 192.2ms\n",
      "Speed: 2.0ms preprocess, 192.2ms inference, 1.0ms postprocess per image at shape (1, 3, 384, 640)\n",
      "\n",
      "image 1/1 c:\\Users\\ansal\\source\\repos\\anomaly-detection\\data\\test_images\\error_image_2.jpg: 384x640 5 prints, 199.3ms\n",
      "Speed: 2.0ms preprocess, 199.3ms inference, 1.0ms postprocess per image at shape (1, 3, 384, 640)\n",
      "\n",
      "image 1/1 c:\\Users\\ansal\\source\\repos\\anomaly-detection\\data\\test_images\\error_image_3.jpg: 224x640 2 prints, 163.1ms\n",
      "Speed: 2.0ms preprocess, 163.1ms inference, 1.0ms postprocess per image at shape (1, 3, 224, 640)\n",
      "\n",
      "image 1/1 c:\\Users\\ansal\\source\\repos\\anomaly-detection\\data\\test_images\\error_image_4.jpg: 224x640 1 print, 142.8ms\n",
      "Speed: 2.0ms preprocess, 142.8ms inference, 1.0ms postprocess per image at shape (1, 3, 224, 640)\n",
      "\n",
      "image 1/1 c:\\Users\\ansal\\source\\repos\\anomaly-detection\\data\\test_images\\correct_image_0.jpg: 384x640 3 prints, 201.9ms\n",
      "Speed: 2.0ms preprocess, 201.9ms inference, 1.1ms postprocess per image at shape (1, 3, 384, 640)\n",
      "\n",
      "image 1/1 c:\\Users\\ansal\\source\\repos\\anomaly-detection\\data\\test_images\\correct_image_1.jpg: 384x640 3 prints, 165.0ms\n",
      "Speed: 1.9ms preprocess, 165.0ms inference, 1.1ms postprocess per image at shape (1, 3, 384, 640)\n",
      "\n",
      "image 1/1 c:\\Users\\ansal\\source\\repos\\anomaly-detection\\data\\test_images\\correct_image_2.jpg: 384x640 3 prints, 167.3ms\n",
      "Speed: 2.1ms preprocess, 167.3ms inference, 0.0ms postprocess per image at shape (1, 3, 384, 640)\n",
      "\n",
      "image 1/1 c:\\Users\\ansal\\source\\repos\\anomaly-detection\\data\\test_images\\error_image_0.jpg: 384x640 4 prints, 199.9ms\n",
      "Speed: 3.0ms preprocess, 199.9ms inference, 1.0ms postprocess per image at shape (1, 3, 384, 640)\n",
      "\n",
      "image 1/1 c:\\Users\\ansal\\source\\repos\\anomaly-detection\\data\\test_images\\error_image_1.jpg: 384x640 3 prints, 194.8ms\n",
      "Speed: 2.0ms preprocess, 194.8ms inference, 1.0ms postprocess per image at shape (1, 3, 384, 640)\n",
      "\n",
      "image 1/1 c:\\Users\\ansal\\source\\repos\\anomaly-detection\\data\\test_images\\error_image_2.jpg: 384x640 5 prints, 149.4ms\n",
      "Speed: 2.0ms preprocess, 149.4ms inference, 1.0ms postprocess per image at shape (1, 3, 384, 640)\n",
      "\n",
      "image 1/1 c:\\Users\\ansal\\source\\repos\\anomaly-detection\\data\\test_images\\error_image_3.jpg: 224x640 2 prints, 98.8ms\n",
      "Speed: 1.1ms preprocess, 98.8ms inference, 1.0ms postprocess per image at shape (1, 3, 224, 640)\n",
      "\n",
      "image 1/1 c:\\Users\\ansal\\source\\repos\\anomaly-detection\\data\\test_images\\error_image_4.jpg: 224x640 1 print, 90.6ms\n",
      "Speed: 1.0ms preprocess, 90.6ms inference, 1.0ms postprocess per image at shape (1, 3, 224, 640)\n",
      "\u001b[1m1/1\u001b[0m \u001b[32m━━━━━━━━━━━━━━━━━━━━\u001b[0m\u001b[37m\u001b[0m \u001b[1m0s\u001b[0m 226ms/step\n",
      "\u001b[1m1/1\u001b[0m \u001b[32m━━━━━━━━━━━━━━━━━━━━\u001b[0m\u001b[37m\u001b[0m \u001b[1m0s\u001b[0m 40ms/step\n",
      "\u001b[1m1/1\u001b[0m \u001b[32m━━━━━━━━━━━━━━━━━━━━\u001b[0m\u001b[37m\u001b[0m \u001b[1m0s\u001b[0m 36ms/step\n",
      "\u001b[1m1/1\u001b[0m \u001b[32m━━━━━━━━━━━━━━━━━━━━\u001b[0m\u001b[37m\u001b[0m \u001b[1m0s\u001b[0m 41ms/step\n",
      "\u001b[1m1/1\u001b[0m \u001b[32m━━━━━━━━━━━━━━━━━━━━\u001b[0m\u001b[37m\u001b[0m \u001b[1m0s\u001b[0m 47ms/step\n",
      "\u001b[1m1/1\u001b[0m \u001b[32m━━━━━━━━━━━━━━━━━━━━\u001b[0m\u001b[37m\u001b[0m \u001b[1m0s\u001b[0m 39ms/step\n",
      "\u001b[1m1/1\u001b[0m \u001b[32m━━━━━━━━━━━━━━━━━━━━\u001b[0m\u001b[37m\u001b[0m \u001b[1m0s\u001b[0m 41ms/step\n",
      "\u001b[1m1/1\u001b[0m \u001b[32m━━━━━━━━━━━━━━━━━━━━\u001b[0m\u001b[37m\u001b[0m \u001b[1m0s\u001b[0m 39ms/step\n",
      "Precision: 0.80\n",
      "Recall: 0.80\n",
      "F1-Score: 0.80\n"
     ]
    }
   ],
   "source": [
    "from src.detection.detect_objects import detect_print_area\n",
    "from src.classification.detect_anomalies import detect_and_visualize_anomalies\n",
    "from src.classification.crop_detected_area import crop_detected_area\n",
    "import os\n",
    "\n",
    "def process_test_images(yolo_model_path, autoencoder_model_path, test_directory, output_directory, input_shape, anomaly_threshold=0.05):\n",
    "    detected_directory = os.path.join(output_directory, \"detected\")\n",
    "    detect_print_area(\n",
    "        model_path=yolo_model_path,\n",
    "        frames_directory=test_directory,\n",
    "        output_directory=detected_directory\n",
    "    )\n",
    "\n",
    "    cropped_directory = os.path.join(output_directory, \"cropped\")\n",
    "    crop_detected_area(\n",
    "        model_path=yolo_model_path,\n",
    "        frames_directory=test_directory,\n",
    "        output_directory=cropped_directory\n",
    "    )\n",
    "\n",
    "    results_directory = os.path.join(output_directory, \"results\")\n",
    "    detect_and_visualize_anomalies(\n",
    "        model_path=autoencoder_model_path,\n",
    "        test_directory=cropped_directory,\n",
    "        output_directory=results_directory,\n",
    "        input_shape=input_shape,\n",
    "        threshold=anomaly_threshold,\n",
    "    )\n",
    "\n",
    "process_test_images(\n",
    "    yolo_model_path=\"models/print_area_detector.pt\",\n",
    "    autoencoder_model_path=\"models/autoencoder.h5\",\n",
    "    test_directory=\"data/test_images\",\n",
    "    output_directory=\"data/test_results\",\n",
    "    input_shape=(128, 128, 3),\n",
    "    anomaly_threshold=0.007,\n",
    ")"
   ]
  }
 ],
 "metadata": {
  "kernelspec": {
   "display_name": ".venv",
   "language": "python",
   "name": "python3"
  },
  "language_info": {
   "codemirror_mode": {
    "name": "ipython",
    "version": 3
   },
   "file_extension": ".py",
   "mimetype": "text/x-python",
   "name": "python",
   "nbconvert_exporter": "python",
   "pygments_lexer": "ipython3",
   "version": "3.11.9"
  }
 },
 "nbformat": 4,
 "nbformat_minor": 2
}
